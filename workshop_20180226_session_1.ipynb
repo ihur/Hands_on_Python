{
 "cells": [
  {
   "cell_type": "markdown",
   "metadata": {},
   "source": [
    "# Python Hands-on training - Session 1"
   ]
  },
  {
   "cell_type": "markdown",
   "metadata": {
    "collapsed": true
   },
   "source": [
    "## Basics of Python\n",
    "### 1. Simple data structure\n",
    "#### lists"
   ]
  },
  {
   "cell_type": "code",
   "execution_count": 1,
   "metadata": {
    "collapsed": true
   },
   "outputs": [],
   "source": [
    "sample_list = [0,1,2,3,4,5]"
   ]
  },
  {
   "cell_type": "code",
   "execution_count": 2,
   "metadata": {},
   "outputs": [
    {
     "data": {
      "text/plain": [
       "[0, 1, 2, 3, 4, 5]"
      ]
     },
     "execution_count": 2,
     "metadata": {},
     "output_type": "execute_result"
    }
   ],
   "source": [
    "sample_list"
   ]
  },
  {
   "cell_type": "code",
   "execution_count": 3,
   "metadata": {},
   "outputs": [
    {
     "data": {
      "text/plain": [
       "2"
      ]
     },
     "execution_count": 3,
     "metadata": {},
     "output_type": "execute_result"
    }
   ],
   "source": [
    "sample_list[2] # indexing returns the item"
   ]
  },
  {
   "cell_type": "code",
   "execution_count": 4,
   "metadata": {},
   "outputs": [
    {
     "data": {
      "text/plain": [
       "[4, 5]"
      ]
     },
     "execution_count": 4,
     "metadata": {},
     "output_type": "execute_result"
    }
   ],
   "source": [
    "sample_list[4:6] # slicing returns new list"
   ]
  },
  {
   "cell_type": "code",
   "execution_count": 5,
   "metadata": {},
   "outputs": [
    {
     "data": {
      "text/plain": [
       "4"
      ]
     },
     "execution_count": 5,
     "metadata": {},
     "output_type": "execute_result"
    }
   ],
   "source": [
    "sample_list[-2] # it should return the second last element in the list"
   ]
  },
  {
   "cell_type": "markdown",
   "metadata": {},
   "source": [
    "### strings"
   ]
  },
  {
   "cell_type": "code",
   "execution_count": 6,
   "metadata": {},
   "outputs": [
    {
     "name": "stdout",
     "output_type": "stream",
     "text": [
      "e\n",
      "6\n",
      "Hello! Beautiful!\n"
     ]
    }
   ],
   "source": [
    "sample_str = \"Hello!\"\n",
    "print sample_str[1]\n",
    "print len(sample_str)\n",
    "print sample_str + \" Beautiful!\""
   ]
  },
  {
   "cell_type": "markdown",
   "metadata": {},
   "source": [
    "### tuples"
   ]
  },
  {
   "cell_type": "code",
   "execution_count": 7,
   "metadata": {
    "collapsed": true
   },
   "outputs": [],
   "source": [
    "sample_tuple = 1,3,5,7,9"
   ]
  },
  {
   "cell_type": "code",
   "execution_count": 8,
   "metadata": {},
   "outputs": [
    {
     "data": {
      "text/plain": [
       "(1, 3, 5, 7, 9)"
      ]
     },
     "execution_count": 8,
     "metadata": {},
     "output_type": "execute_result"
    }
   ],
   "source": [
    "sample_tuple"
   ]
  },
  {
   "cell_type": "code",
   "execution_count": 9,
   "metadata": {},
   "outputs": [
    {
     "data": {
      "text/plain": [
       "7"
      ]
     },
     "execution_count": 9,
     "metadata": {},
     "output_type": "execute_result"
    }
   ],
   "source": [
    "sample_tuple[3]"
   ]
  },
  {
   "cell_type": "code",
   "execution_count": 10,
   "metadata": {},
   "outputs": [
    {
     "ename": "TypeError",
     "evalue": "'tuple' object does not support item assignment",
     "output_type": "error",
     "traceback": [
      "\u001b[0;31m---------------------------------------------------------------------------\u001b[0m",
      "\u001b[0;31mTypeError\u001b[0m                                 Traceback (most recent call last)",
      "\u001b[0;32m<ipython-input-10-15212c3280ce>\u001b[0m in \u001b[0;36m<module>\u001b[0;34m()\u001b[0m\n\u001b[0;32m----> 1\u001b[0;31m \u001b[0msample_tuple\u001b[0m\u001b[0;34m[\u001b[0m\u001b[0;36m3\u001b[0m\u001b[0;34m]\u001b[0m \u001b[0;34m=\u001b[0m \u001b[0;36m14\u001b[0m\u001b[0;34m\u001b[0m\u001b[0m\n\u001b[0m\u001b[1;32m      2\u001b[0m \u001b[0;31m# Nah! Error! Tuple value cannot be changed!\u001b[0m\u001b[0;34m\u001b[0m\u001b[0;34m\u001b[0m\u001b[0m\n",
      "\u001b[0;31mTypeError\u001b[0m: 'tuple' object does not support item assignment"
     ]
    }
   ],
   "source": [
    "sample_tuple[3] = 14\n",
    "# Nah! Error! Tuple value cannot be changed!"
   ]
  },
  {
   "cell_type": "markdown",
   "metadata": {},
   "source": [
    "### dictionary"
   ]
  },
  {
   "cell_type": "code",
   "execution_count": 11,
   "metadata": {},
   "outputs": [
    {
     "data": {
      "text/plain": [
       "{'Hyundai': 5839, 'Lenddo': 8360, 'NYC': 1744, 'Seoul': 3236}"
      ]
     },
     "execution_count": 11,
     "metadata": {},
     "output_type": "execute_result"
    }
   ],
   "source": [
    "sample_dic = {'Lenddo': 8360, 'Hyundai': 5839, 'Seoul': 3236, 'NYC': 1744}\n",
    "sample_dic"
   ]
  },
  {
   "cell_type": "code",
   "execution_count": 12,
   "metadata": {},
   "outputs": [
    {
     "data": {
      "text/plain": [
       "{'Hyundai': 5839, 'Lenddo': 1999, 'NYC': 1744, 'Seoul': 3236}"
      ]
     },
     "execution_count": 12,
     "metadata": {},
     "output_type": "execute_result"
    }
   ],
   "source": [
    "sample_dic['Lenddo'] = 1999\n",
    "sample_dic"
   ]
  },
  {
   "cell_type": "code",
   "execution_count": 13,
   "metadata": {},
   "outputs": [
    {
     "data": {
      "text/plain": [
       "['NYC', 'Hyundai', 'Lenddo', 'Seoul']"
      ]
     },
     "execution_count": 13,
     "metadata": {},
     "output_type": "execute_result"
    }
   ],
   "source": [
    "sample_dic.keys()"
   ]
  },
  {
   "cell_type": "code",
   "execution_count": 14,
   "metadata": {},
   "outputs": [
    {
     "data": {
      "text/plain": [
       "[1744, 5839, 1999, 3236]"
      ]
     },
     "execution_count": 14,
     "metadata": {},
     "output_type": "execute_result"
    }
   ],
   "source": [
    "sample_dic.values()"
   ]
  },
  {
   "cell_type": "markdown",
   "metadata": {},
   "source": [
    "## 2. Iteration and Conditional Constructs\n",
    "### for loop"
   ]
  },
  {
   "cell_type": "code",
   "execution_count": 15,
   "metadata": {},
   "outputs": [
    {
     "name": "stdout",
     "output_type": "stream",
     "text": [
      "H\n",
      "e\n",
      "l\n",
      "l\n",
      "o\n",
      "!\n"
     ]
    }
   ],
   "source": [
    "for i in range(len(sample_str)):\n",
    "    print sample_str[i]"
   ]
  },
  {
   "cell_type": "code",
   "execution_count": 16,
   "metadata": {},
   "outputs": [
    {
     "name": "stdout",
     "output_type": "stream",
     "text": [
      "H\n",
      "e\n",
      "l\n"
     ]
    }
   ],
   "source": [
    "# ADD COMMENT HERE!\n",
    "for i in range(3):\n",
    "    print sample_str[i]"
   ]
  },
  {
   "cell_type": "code",
   "execution_count": 17,
   "metadata": {},
   "outputs": [
    {
     "name": "stdout",
     "output_type": "stream",
     "text": [
      "H\n",
      "e\n",
      "l\n",
      "l\n",
      "o\n",
      "!\n"
     ]
    }
   ],
   "source": [
    "for character in sample_str:\n",
    "    print character"
   ]
  },
  {
   "cell_type": "code",
   "execution_count": 18,
   "metadata": {},
   "outputs": [
    {
     "name": "stdout",
     "output_type": "stream",
     "text": [
      "1744\n",
      "5839\n",
      "1999\n",
      "3236\n"
     ]
    }
   ],
   "source": [
    "## Q1. How to print out dictionary values using for loop?\n",
    "for key, value in sample_dic.iteritems():\n",
    "    print value"
   ]
  },
  {
   "cell_type": "markdown",
   "metadata": {},
   "source": [
    "### while loop"
   ]
  },
  {
   "cell_type": "code",
   "execution_count": 19,
   "metadata": {},
   "outputs": [
    {
     "name": "stdout",
     "output_type": "stream",
     "text": [
      "1\n",
      "2\n",
      "3\n",
      "4\n",
      "5\n"
     ]
    }
   ],
   "source": [
    "sample_int = 0\n",
    "while sample_int < 5:\n",
    "    sample_int = sample_int + 1\n",
    "    print sample_int"
   ]
  },
  {
   "cell_type": "markdown",
   "metadata": {},
   "source": [
    "### if... else..."
   ]
  },
  {
   "cell_type": "code",
   "execution_count": 20,
   "metadata": {},
   "outputs": [
    {
     "data": {
      "text/plain": [
       "(1, 3, 5, 7, 9)"
      ]
     },
     "execution_count": 20,
     "metadata": {},
     "output_type": "execute_result"
    }
   ],
   "source": [
    "sample_tuple"
   ]
  },
  {
   "cell_type": "code",
   "execution_count": 21,
   "metadata": {},
   "outputs": [
    {
     "name": "stdout",
     "output_type": "stream",
     "text": [
      "correct\n"
     ]
    }
   ],
   "source": [
    "if sample_tuple[3] == 7:\n",
    "    print 'correct'\n",
    "else:\n",
    "    print 'wrong!'"
   ]
  },
  {
   "cell_type": "markdown",
   "metadata": {},
   "source": [
    "## 3. Python libraries\n",
    "### how to import"
   ]
  },
  {
   "cell_type": "code",
   "execution_count": 22,
   "metadata": {
    "collapsed": true
   },
   "outputs": [],
   "source": [
    "import numpy as np"
   ]
  },
  {
   "cell_type": "code",
   "execution_count": 23,
   "metadata": {
    "collapsed": true
   },
   "outputs": [],
   "source": [
    "from numpy import *"
   ]
  },
  {
   "cell_type": "code",
   "execution_count": 24,
   "metadata": {},
   "outputs": [
    {
     "data": {
      "text/plain": [
       "100"
      ]
     },
     "execution_count": 24,
     "metadata": {},
     "output_type": "execute_result"
    }
   ],
   "source": [
    "np.abs(-100)"
   ]
  },
  {
   "cell_type": "markdown",
   "metadata": {},
   "source": [
    "# Exploratory analysis using Pandas\n",
    "## 1. Quick Data Exploration"
   ]
  },
  {
   "cell_type": "code",
   "execution_count": 25,
   "metadata": {
    "collapsed": true
   },
   "outputs": [],
   "source": [
    "import pandas as pd\n",
    "import matplotlib as plt"
   ]
  },
  {
   "cell_type": "code",
   "execution_count": 35,
   "metadata": {
    "collapsed": true
   },
   "outputs": [],
   "source": [
    "# Reading the dataset in a dataframe using Pandas\n",
    "df = pd.read_csv(\"contact.csv\", index_col=None) "
   ]
  },
  {
   "cell_type": "code",
   "execution_count": 36,
   "metadata": {},
   "outputs": [
    {
     "data": {
      "text/html": [
       "<div>\n",
       "<style>\n",
       "    .dataframe thead tr:only-child th {\n",
       "        text-align: right;\n",
       "    }\n",
       "\n",
       "    .dataframe thead th {\n",
       "        text-align: left;\n",
       "    }\n",
       "\n",
       "    .dataframe tbody tr th {\n",
       "        vertical-align: top;\n",
       "    }\n",
       "</style>\n",
       "<table border=\"1\" class=\"dataframe\">\n",
       "  <thead>\n",
       "    <tr style=\"text-align: right;\">\n",
       "      <th></th>\n",
       "      <th>_id</th>\n",
       "      <th>created</th>\n",
       "      <th>email</th>\n",
       "      <th>id</th>\n",
       "      <th>last_contacted</th>\n",
       "      <th>name</th>\n",
       "      <th>phone_numbers</th>\n",
       "      <th>profile_id</th>\n",
       "      <th>starred</th>\n",
       "      <th>times_contacted</th>\n",
       "      <th>updated</th>\n",
       "    </tr>\n",
       "  </thead>\n",
       "  <tbody>\n",
       "    <tr>\n",
       "      <th>0</th>\n",
       "      <td>00000000-007a-352b-99b8-2f903aff7e71MO0r1-0C90...</td>\n",
       "      <td>2016-11-02 06:55:22.372</td>\n",
       "      <td>NaN</td>\n",
       "      <td>0r1-0C9044261C581654063A1430691C301030030C9044</td>\n",
       "      <td>1.478049e+12</td>\n",
       "      <td>e079b5c8da7c98ad0b93984550aa9cbe921d34d1a3d7e2...</td>\n",
       "      <td>[{u'type': u'mobile', u'number': u'0e714d1de2e...</td>\n",
       "      <td>00000000-007a-352b-99b8-2f903aff7e71MO</td>\n",
       "      <td>0</td>\n",
       "      <td>21</td>\n",
       "      <td>2016-11-02 06:55:22.373</td>\n",
       "    </tr>\n",
       "    <tr>\n",
       "      <th>1</th>\n",
       "      <td>00000000-007a-352b-99b8-2f903aff7e71MO0r2-0C90...</td>\n",
       "      <td>2016-11-02 06:55:22.372</td>\n",
       "      <td>NaN</td>\n",
       "      <td>0r2-0C9044260A32183010308512301258030C9044</td>\n",
       "      <td>1.478049e+12</td>\n",
       "      <td>4ef566502f45a57067510b893d72ae5395889757df3c17...</td>\n",
       "      <td>[{u'type': u'mobile', u'number': u'9235d66b6a1...</td>\n",
       "      <td>00000000-007a-352b-99b8-2f903aff7e71MO</td>\n",
       "      <td>0</td>\n",
       "      <td>26</td>\n",
       "      <td>2016-11-02 06:55:22.374</td>\n",
       "    </tr>\n",
       "    <tr>\n",
       "      <th>2</th>\n",
       "      <td>00000000-007a-352b-99b8-2f903aff7e71MO0r3-0C90...</td>\n",
       "      <td>2016-11-02 06:55:22.372</td>\n",
       "      <td>NaN</td>\n",
       "      <td>0r3-0C9044260A32183010308516301630030C9044</td>\n",
       "      <td>1.477788e+12</td>\n",
       "      <td>4ef566502f45a57067510b893d72ae5395889757df3c17...</td>\n",
       "      <td>[{u'type': u'mobile', u'number': u'f83e33aaa81...</td>\n",
       "      <td>00000000-007a-352b-99b8-2f903aff7e71MO</td>\n",
       "      <td>0</td>\n",
       "      <td>2</td>\n",
       "      <td>2016-11-02 06:55:22.374</td>\n",
       "    </tr>\n",
       "    <tr>\n",
       "      <th>3</th>\n",
       "      <td>00000000-007a-352b-99b8-2f903aff7e71MO0r11-261...</td>\n",
       "      <td>2016-11-02 06:55:22.372</td>\n",
       "      <td>NaN</td>\n",
       "      <td>0r11-261C581E58184A</td>\n",
       "      <td>1.477765e+12</td>\n",
       "      <td>a03b221c6c6eae7122ca51695d456d5222e52488913639...</td>\n",
       "      <td>[{u'type': u'mobile', u'number': u'fe41c4666a9...</td>\n",
       "      <td>00000000-007a-352b-99b8-2f903aff7e71MO</td>\n",
       "      <td>0</td>\n",
       "      <td>1</td>\n",
       "      <td>2016-11-02 06:55:22.378</td>\n",
       "    </tr>\n",
       "    <tr>\n",
       "      <th>4</th>\n",
       "      <td>00000000-007a-352b-99b8-2f903aff7e71MO0r4-2614...</td>\n",
       "      <td>2016-11-02 06:55:22.372</td>\n",
       "      <td>NaN</td>\n",
       "      <td>0r4-26143C6B1C58030C9044</td>\n",
       "      <td>0.000000e+00</td>\n",
       "      <td>a03b221c6c6eae7122ca51695d456d5222e52488913639...</td>\n",
       "      <td>[{u'type': u'mobile', u'number': u'cfed8b65459...</td>\n",
       "      <td>00000000-007a-352b-99b8-2f903aff7e71MO</td>\n",
       "      <td>0</td>\n",
       "      <td>0</td>\n",
       "      <td>2016-11-02 06:55:22.375</td>\n",
       "    </tr>\n",
       "  </tbody>\n",
       "</table>\n",
       "</div>"
      ],
      "text/plain": [
       "                                                 _id                  created  \\\n",
       "0  00000000-007a-352b-99b8-2f903aff7e71MO0r1-0C90...  2016-11-02 06:55:22.372   \n",
       "1  00000000-007a-352b-99b8-2f903aff7e71MO0r2-0C90...  2016-11-02 06:55:22.372   \n",
       "2  00000000-007a-352b-99b8-2f903aff7e71MO0r3-0C90...  2016-11-02 06:55:22.372   \n",
       "3  00000000-007a-352b-99b8-2f903aff7e71MO0r11-261...  2016-11-02 06:55:22.372   \n",
       "4  00000000-007a-352b-99b8-2f903aff7e71MO0r4-2614...  2016-11-02 06:55:22.372   \n",
       "\n",
       "  email                                              id  last_contacted  \\\n",
       "0   NaN  0r1-0C9044261C581654063A1430691C301030030C9044    1.478049e+12   \n",
       "1   NaN      0r2-0C9044260A32183010308512301258030C9044    1.478049e+12   \n",
       "2   NaN      0r3-0C9044260A32183010308516301630030C9044    1.477788e+12   \n",
       "3   NaN                             0r11-261C581E58184A    1.477765e+12   \n",
       "4   NaN                        0r4-26143C6B1C58030C9044    0.000000e+00   \n",
       "\n",
       "                                                name  \\\n",
       "0  e079b5c8da7c98ad0b93984550aa9cbe921d34d1a3d7e2...   \n",
       "1  4ef566502f45a57067510b893d72ae5395889757df3c17...   \n",
       "2  4ef566502f45a57067510b893d72ae5395889757df3c17...   \n",
       "3  a03b221c6c6eae7122ca51695d456d5222e52488913639...   \n",
       "4  a03b221c6c6eae7122ca51695d456d5222e52488913639...   \n",
       "\n",
       "                                       phone_numbers  \\\n",
       "0  [{u'type': u'mobile', u'number': u'0e714d1de2e...   \n",
       "1  [{u'type': u'mobile', u'number': u'9235d66b6a1...   \n",
       "2  [{u'type': u'mobile', u'number': u'f83e33aaa81...   \n",
       "3  [{u'type': u'mobile', u'number': u'fe41c4666a9...   \n",
       "4  [{u'type': u'mobile', u'number': u'cfed8b65459...   \n",
       "\n",
       "                               profile_id  starred  times_contacted  \\\n",
       "0  00000000-007a-352b-99b8-2f903aff7e71MO        0               21   \n",
       "1  00000000-007a-352b-99b8-2f903aff7e71MO        0               26   \n",
       "2  00000000-007a-352b-99b8-2f903aff7e71MO        0                2   \n",
       "3  00000000-007a-352b-99b8-2f903aff7e71MO        0                1   \n",
       "4  00000000-007a-352b-99b8-2f903aff7e71MO        0                0   \n",
       "\n",
       "                   updated  \n",
       "0  2016-11-02 06:55:22.373  \n",
       "1  2016-11-02 06:55:22.374  \n",
       "2  2016-11-02 06:55:22.374  \n",
       "3  2016-11-02 06:55:22.378  \n",
       "4  2016-11-02 06:55:22.375  "
      ]
     },
     "execution_count": 36,
     "metadata": {},
     "output_type": "execute_result"
    }
   ],
   "source": [
    "df.head()"
   ]
  },
  {
   "cell_type": "code",
   "execution_count": 37,
   "metadata": {},
   "outputs": [
    {
     "data": {
      "text/html": [
       "<div>\n",
       "<style>\n",
       "    .dataframe thead tr:only-child th {\n",
       "        text-align: right;\n",
       "    }\n",
       "\n",
       "    .dataframe thead th {\n",
       "        text-align: left;\n",
       "    }\n",
       "\n",
       "    .dataframe tbody tr th {\n",
       "        vertical-align: top;\n",
       "    }\n",
       "</style>\n",
       "<table border=\"1\" class=\"dataframe\">\n",
       "  <thead>\n",
       "    <tr style=\"text-align: right;\">\n",
       "      <th></th>\n",
       "      <th>_id</th>\n",
       "      <th>created</th>\n",
       "      <th>email</th>\n",
       "      <th>id</th>\n",
       "      <th>last_contacted</th>\n",
       "      <th>name</th>\n",
       "      <th>phone_numbers</th>\n",
       "      <th>profile_id</th>\n",
       "      <th>starred</th>\n",
       "      <th>times_contacted</th>\n",
       "      <th>updated</th>\n",
       "    </tr>\n",
       "  </thead>\n",
       "  <tbody>\n",
       "    <tr>\n",
       "      <th>10499</th>\n",
       "      <td>ffffffff-f8ba-eb97-ffff-ffffc8c73cebMO0r182-26...</td>\n",
       "      <td>2016-11-07 21:08:19.021</td>\n",
       "      <td>NaN</td>\n",
       "      <td>0r182-261C581C3C85184A63.625r201-261C581C3C851...</td>\n",
       "      <td>0.000000e+00</td>\n",
       "      <td>a03b221c6c6eae7122ca51695d456d5222e52488913639...</td>\n",
       "      <td>[{u'type': u'mobile', u'number': u'23acf945cb9...</td>\n",
       "      <td>ffffffff-f8ba-eb97-ffff-ffffc8c73cebMO</td>\n",
       "      <td>0</td>\n",
       "      <td>0</td>\n",
       "      <td>2016-11-07 21:08:19.056</td>\n",
       "    </tr>\n",
       "    <tr>\n",
       "      <th>10500</th>\n",
       "      <td>ffffffff-f8ba-eb97-ffff-ffffc8c73cebMO0r183-26...</td>\n",
       "      <td>2016-11-07 21:08:19.021</td>\n",
       "      <td>NaN</td>\n",
       "      <td>0r183-261C581C4C6322386B.625r202-261C581C4C632...</td>\n",
       "      <td>0.000000e+00</td>\n",
       "      <td>a03b221c6c6eae7122ca51695d456d5222e52488913639...</td>\n",
       "      <td>[{u'type': u'mobile', u'number': u'd613c15ca89...</td>\n",
       "      <td>ffffffff-f8ba-eb97-ffff-ffffc8c73cebMO</td>\n",
       "      <td>0</td>\n",
       "      <td>0</td>\n",
       "      <td>2016-11-07 21:08:19.057</td>\n",
       "    </tr>\n",
       "    <tr>\n",
       "      <th>10501</th>\n",
       "      <td>ffffffff-f8ba-eb97-ffff-ffffc8c73cebMO0r185-26...</td>\n",
       "      <td>2016-11-07 21:08:19.021</td>\n",
       "      <td>NaN</td>\n",
       "      <td>0r185-261C587B1E3A2A3C63.625r204-261C587B1E3A2...</td>\n",
       "      <td>1.461730e+12</td>\n",
       "      <td>a03b221c6c6eae7122ca51695d456d5222e52488913639...</td>\n",
       "      <td>[{u'type': u'mobile', u'number': u'a4af5b1feec...</td>\n",
       "      <td>ffffffff-f8ba-eb97-ffff-ffffc8c73cebMO</td>\n",
       "      <td>0</td>\n",
       "      <td>1</td>\n",
       "      <td>2016-11-07 21:08:19.058</td>\n",
       "    </tr>\n",
       "    <tr>\n",
       "      <th>10502</th>\n",
       "      <td>ffffffff-f8ba-eb97-ffff-ffffc8c73cebMO0r187-26...</td>\n",
       "      <td>2016-11-07 21:08:19.021</td>\n",
       "      <td>NaN</td>\n",
       "      <td>0r187-261E38851854851C3C7D.625r206-261E3885185...</td>\n",
       "      <td>0.000000e+00</td>\n",
       "      <td>a03b221c6c6eae7122ca51695d456d5222e52488913639...</td>\n",
       "      <td>[{u'type': u'mobile', u'number': u'b454d05d31c...</td>\n",
       "      <td>ffffffff-f8ba-eb97-ffff-ffffc8c73cebMO</td>\n",
       "      <td>0</td>\n",
       "      <td>0</td>\n",
       "      <td>2016-11-07 21:08:19.059</td>\n",
       "    </tr>\n",
       "    <tr>\n",
       "      <th>10503</th>\n",
       "      <td>ffffffff-f8ba-eb97-ffff-ffffc8c73cebMO0r184-26...</td>\n",
       "      <td>2016-11-07 21:08:19.021</td>\n",
       "      <td>NaN</td>\n",
       "      <td>0r184-261C581E58632A4263.625r203-261C581E58632...</td>\n",
       "      <td>0.000000e+00</td>\n",
       "      <td>a03b221c6c6eae7122ca51695d456d5222e52488913639...</td>\n",
       "      <td>[{u'type': u'mobile', u'number': u'7a2f2a94626...</td>\n",
       "      <td>ffffffff-f8ba-eb97-ffff-ffffc8c73cebMO</td>\n",
       "      <td>0</td>\n",
       "      <td>0</td>\n",
       "      <td>2016-11-07 21:08:19.057</td>\n",
       "    </tr>\n",
       "    <tr>\n",
       "      <th>10504</th>\n",
       "      <td>ffffffff-f8ba-eb97-ffff-ffffc8c73cebMO0r186-26...</td>\n",
       "      <td>2016-11-07 21:08:19.021</td>\n",
       "      <td>NaN</td>\n",
       "      <td>0r186-261E388506580C385D.625r205-261E388506580...</td>\n",
       "      <td>0.000000e+00</td>\n",
       "      <td>a03b221c6c6eae7122ca51695d456d5222e52488913639...</td>\n",
       "      <td>[{u'type': u'mobile', u'number': u'709ad37bc35...</td>\n",
       "      <td>ffffffff-f8ba-eb97-ffff-ffffc8c73cebMO</td>\n",
       "      <td>0</td>\n",
       "      <td>0</td>\n",
       "      <td>2016-11-07 21:08:19.059</td>\n",
       "    </tr>\n",
       "    <tr>\n",
       "      <th>10505</th>\n",
       "      <td>ffffffff-f8ba-eb97-ffff-ffffc8c73cebMO0r190-26...</td>\n",
       "      <td>2016-11-07 21:08:19.021</td>\n",
       "      <td>NaN</td>\n",
       "      <td>0r190-262A42851C386322386B.625r209-262A42851C3...</td>\n",
       "      <td>0.000000e+00</td>\n",
       "      <td>a03b221c6c6eae7122ca51695d456d5222e52488913639...</td>\n",
       "      <td>[{u'type': u'mobile', u'number': u'b88c5bdbd87...</td>\n",
       "      <td>ffffffff-f8ba-eb97-ffff-ffffc8c73cebMO</td>\n",
       "      <td>0</td>\n",
       "      <td>0</td>\n",
       "      <td>2016-11-07 21:08:19.062</td>\n",
       "    </tr>\n",
       "    <tr>\n",
       "      <th>10506</th>\n",
       "      <td>ffffffff-f8ba-eb97-ffff-ffffc8c73cebMO0r189-26...</td>\n",
       "      <td>2016-11-07 21:08:19.021</td>\n",
       "      <td>NaN</td>\n",
       "      <td>0r189-262A40851E4A632848.625r208-262A40851E4A6...</td>\n",
       "      <td>0.000000e+00</td>\n",
       "      <td>a03b221c6c6eae7122ca51695d456d5222e52488913639...</td>\n",
       "      <td>[{u'type': u'mobile', u'number': u'3be9190585a...</td>\n",
       "      <td>ffffffff-f8ba-eb97-ffff-ffffc8c73cebMO</td>\n",
       "      <td>0</td>\n",
       "      <td>0</td>\n",
       "      <td>2016-11-07 21:08:19.061</td>\n",
       "    </tr>\n",
       "    <tr>\n",
       "      <th>10507</th>\n",
       "      <td>ffffffff-f8ba-eb97-ffff-ffffc8c73cebMO0r188-26...</td>\n",
       "      <td>2016-11-07 21:08:19.021</td>\n",
       "      <td>NaN</td>\n",
       "      <td>0r188-262A408518385D183085.625r207-262A4085183...</td>\n",
       "      <td>0.000000e+00</td>\n",
       "      <td>a03b221c6c6eae7122ca51695d456d5222e52488913639...</td>\n",
       "      <td>[{u'type': u'mobile', u'number': u'bc37b7c9249...</td>\n",
       "      <td>ffffffff-f8ba-eb97-ffff-ffffc8c73cebMO</td>\n",
       "      <td>0</td>\n",
       "      <td>0</td>\n",
       "      <td>2016-11-07 21:08:19.060</td>\n",
       "    </tr>\n",
       "    <tr>\n",
       "      <th>10508</th>\n",
       "      <td>ffffffff-f8ba-eb97-ffff-ffffc8c73cebMO625r210-...</td>\n",
       "      <td>2016-11-07 21:08:19.021</td>\n",
       "      <td>NaN</td>\n",
       "      <td>625r210-280D3E1F441B3C255C</td>\n",
       "      <td>1.463995e+12</td>\n",
       "      <td>5d04c6a96439100ad3cb4672ef2fdc219dae8aaa655c9a...</td>\n",
       "      <td>[{u'type': u'mobile', u'number': u'5276942a45c...</td>\n",
       "      <td>ffffffff-f8ba-eb97-ffff-ffffc8c73cebMO</td>\n",
       "      <td>0</td>\n",
       "      <td>17</td>\n",
       "      <td>2016-11-07 21:08:19.062</td>\n",
       "    </tr>\n",
       "  </tbody>\n",
       "</table>\n",
       "</div>"
      ],
      "text/plain": [
       "                                                     _id  \\\n",
       "10499  ffffffff-f8ba-eb97-ffff-ffffc8c73cebMO0r182-26...   \n",
       "10500  ffffffff-f8ba-eb97-ffff-ffffc8c73cebMO0r183-26...   \n",
       "10501  ffffffff-f8ba-eb97-ffff-ffffc8c73cebMO0r185-26...   \n",
       "10502  ffffffff-f8ba-eb97-ffff-ffffc8c73cebMO0r187-26...   \n",
       "10503  ffffffff-f8ba-eb97-ffff-ffffc8c73cebMO0r184-26...   \n",
       "10504  ffffffff-f8ba-eb97-ffff-ffffc8c73cebMO0r186-26...   \n",
       "10505  ffffffff-f8ba-eb97-ffff-ffffc8c73cebMO0r190-26...   \n",
       "10506  ffffffff-f8ba-eb97-ffff-ffffc8c73cebMO0r189-26...   \n",
       "10507  ffffffff-f8ba-eb97-ffff-ffffc8c73cebMO0r188-26...   \n",
       "10508  ffffffff-f8ba-eb97-ffff-ffffc8c73cebMO625r210-...   \n",
       "\n",
       "                       created email  \\\n",
       "10499  2016-11-07 21:08:19.021   NaN   \n",
       "10500  2016-11-07 21:08:19.021   NaN   \n",
       "10501  2016-11-07 21:08:19.021   NaN   \n",
       "10502  2016-11-07 21:08:19.021   NaN   \n",
       "10503  2016-11-07 21:08:19.021   NaN   \n",
       "10504  2016-11-07 21:08:19.021   NaN   \n",
       "10505  2016-11-07 21:08:19.021   NaN   \n",
       "10506  2016-11-07 21:08:19.021   NaN   \n",
       "10507  2016-11-07 21:08:19.021   NaN   \n",
       "10508  2016-11-07 21:08:19.021   NaN   \n",
       "\n",
       "                                                      id  last_contacted  \\\n",
       "10499  0r182-261C581C3C85184A63.625r201-261C581C3C851...    0.000000e+00   \n",
       "10500  0r183-261C581C4C6322386B.625r202-261C581C4C632...    0.000000e+00   \n",
       "10501  0r185-261C587B1E3A2A3C63.625r204-261C587B1E3A2...    1.461730e+12   \n",
       "10502  0r187-261E38851854851C3C7D.625r206-261E3885185...    0.000000e+00   \n",
       "10503  0r184-261C581E58632A4263.625r203-261C581E58632...    0.000000e+00   \n",
       "10504  0r186-261E388506580C385D.625r205-261E388506580...    0.000000e+00   \n",
       "10505  0r190-262A42851C386322386B.625r209-262A42851C3...    0.000000e+00   \n",
       "10506  0r189-262A40851E4A632848.625r208-262A40851E4A6...    0.000000e+00   \n",
       "10507  0r188-262A408518385D183085.625r207-262A4085183...    0.000000e+00   \n",
       "10508                         625r210-280D3E1F441B3C255C    1.463995e+12   \n",
       "\n",
       "                                                    name  \\\n",
       "10499  a03b221c6c6eae7122ca51695d456d5222e52488913639...   \n",
       "10500  a03b221c6c6eae7122ca51695d456d5222e52488913639...   \n",
       "10501  a03b221c6c6eae7122ca51695d456d5222e52488913639...   \n",
       "10502  a03b221c6c6eae7122ca51695d456d5222e52488913639...   \n",
       "10503  a03b221c6c6eae7122ca51695d456d5222e52488913639...   \n",
       "10504  a03b221c6c6eae7122ca51695d456d5222e52488913639...   \n",
       "10505  a03b221c6c6eae7122ca51695d456d5222e52488913639...   \n",
       "10506  a03b221c6c6eae7122ca51695d456d5222e52488913639...   \n",
       "10507  a03b221c6c6eae7122ca51695d456d5222e52488913639...   \n",
       "10508  5d04c6a96439100ad3cb4672ef2fdc219dae8aaa655c9a...   \n",
       "\n",
       "                                           phone_numbers  \\\n",
       "10499  [{u'type': u'mobile', u'number': u'23acf945cb9...   \n",
       "10500  [{u'type': u'mobile', u'number': u'd613c15ca89...   \n",
       "10501  [{u'type': u'mobile', u'number': u'a4af5b1feec...   \n",
       "10502  [{u'type': u'mobile', u'number': u'b454d05d31c...   \n",
       "10503  [{u'type': u'mobile', u'number': u'7a2f2a94626...   \n",
       "10504  [{u'type': u'mobile', u'number': u'709ad37bc35...   \n",
       "10505  [{u'type': u'mobile', u'number': u'b88c5bdbd87...   \n",
       "10506  [{u'type': u'mobile', u'number': u'3be9190585a...   \n",
       "10507  [{u'type': u'mobile', u'number': u'bc37b7c9249...   \n",
       "10508  [{u'type': u'mobile', u'number': u'5276942a45c...   \n",
       "\n",
       "                                   profile_id  starred  times_contacted  \\\n",
       "10499  ffffffff-f8ba-eb97-ffff-ffffc8c73cebMO        0                0   \n",
       "10500  ffffffff-f8ba-eb97-ffff-ffffc8c73cebMO        0                0   \n",
       "10501  ffffffff-f8ba-eb97-ffff-ffffc8c73cebMO        0                1   \n",
       "10502  ffffffff-f8ba-eb97-ffff-ffffc8c73cebMO        0                0   \n",
       "10503  ffffffff-f8ba-eb97-ffff-ffffc8c73cebMO        0                0   \n",
       "10504  ffffffff-f8ba-eb97-ffff-ffffc8c73cebMO        0                0   \n",
       "10505  ffffffff-f8ba-eb97-ffff-ffffc8c73cebMO        0                0   \n",
       "10506  ffffffff-f8ba-eb97-ffff-ffffc8c73cebMO        0                0   \n",
       "10507  ffffffff-f8ba-eb97-ffff-ffffc8c73cebMO        0                0   \n",
       "10508  ffffffff-f8ba-eb97-ffff-ffffc8c73cebMO        0               17   \n",
       "\n",
       "                       updated  \n",
       "10499  2016-11-07 21:08:19.056  \n",
       "10500  2016-11-07 21:08:19.057  \n",
       "10501  2016-11-07 21:08:19.058  \n",
       "10502  2016-11-07 21:08:19.059  \n",
       "10503  2016-11-07 21:08:19.057  \n",
       "10504  2016-11-07 21:08:19.059  \n",
       "10505  2016-11-07 21:08:19.062  \n",
       "10506  2016-11-07 21:08:19.061  \n",
       "10507  2016-11-07 21:08:19.060  \n",
       "10508  2016-11-07 21:08:19.062  "
      ]
     },
     "execution_count": 37,
     "metadata": {},
     "output_type": "execute_result"
    }
   ],
   "source": [
    "df.tail(10)"
   ]
  },
  {
   "cell_type": "code",
   "execution_count": 38,
   "metadata": {},
   "outputs": [
    {
     "data": {
      "text/plain": [
       "(10509, 11)"
      ]
     },
     "execution_count": 38,
     "metadata": {},
     "output_type": "execute_result"
    }
   ],
   "source": [
    "df.shape"
   ]
  },
  {
   "cell_type": "code",
   "execution_count": 39,
   "metadata": {},
   "outputs": [
    {
     "data": {
      "text/plain": [
       "0       7087\n",
       "1        651\n",
       "2        409\n",
       "3        260\n",
       "4        211\n",
       "5        167\n",
       "6        119\n",
       "8        105\n",
       "7        100\n",
       "9         78\n",
       "10        73\n",
       "13        59\n",
       "11        53\n",
       "12        49\n",
       "18        39\n",
       "15        39\n",
       "14        39\n",
       "16        35\n",
       "17        31\n",
       "26        27\n",
       "19        27\n",
       "28        26\n",
       "20        25\n",
       "27        25\n",
       "21        23\n",
       "24        20\n",
       "31        20\n",
       "25        20\n",
       "22        18\n",
       "33        18\n",
       "        ... \n",
       "258        1\n",
       "250        1\n",
       "146        1\n",
       "106        1\n",
       "342        1\n",
       "98         1\n",
       "90         1\n",
       "74         1\n",
       "534        1\n",
       "550        1\n",
       "582        1\n",
       "538        1\n",
       "326        1\n",
       "363        1\n",
       "158        1\n",
       "275        1\n",
       "227        1\n",
       "219        1\n",
       "6304       1\n",
       "150        1\n",
       "123        1\n",
       "174        1\n",
       "310        1\n",
       "91         1\n",
       "182        1\n",
       "67         1\n",
       "222        1\n",
       "246        1\n",
       "294        1\n",
       "1007       1\n",
       "Name: times_contacted, Length: 268, dtype: int64"
      ]
     },
     "execution_count": 39,
     "metadata": {},
     "output_type": "execute_result"
    }
   ],
   "source": [
    "df['times_contacted'].value_counts()"
   ]
  },
  {
   "cell_type": "markdown",
   "metadata": {},
   "source": [
    "## 2. Distribution Analysis"
   ]
  },
  {
   "cell_type": "code",
   "execution_count": 41,
   "metadata": {
    "collapsed": true
   },
   "outputs": [],
   "source": [
    "%matplotlib inline"
   ]
  },
  {
   "cell_type": "code",
   "execution_count": 42,
   "metadata": {
    "collapsed": true
   },
   "outputs": [],
   "source": [
    "df_cal = pd.read_csv(\"calendar.csv\",index_col=None)"
   ]
  },
  {
   "cell_type": "code",
   "execution_count": 43,
   "metadata": {},
   "outputs": [
    {
     "data": {
      "text/html": [
       "<div>\n",
       "<style>\n",
       "    .dataframe thead tr:only-child th {\n",
       "        text-align: right;\n",
       "    }\n",
       "\n",
       "    .dataframe thead th {\n",
       "        text-align: left;\n",
       "    }\n",
       "\n",
       "    .dataframe tbody tr th {\n",
       "        vertical-align: top;\n",
       "    }\n",
       "</style>\n",
       "<table border=\"1\" class=\"dataframe\">\n",
       "  <thead>\n",
       "    <tr style=\"text-align: right;\">\n",
       "      <th></th>\n",
       "      <th>_id</th>\n",
       "      <th>attendees</th>\n",
       "      <th>calendar</th>\n",
       "      <th>created</th>\n",
       "      <th>description</th>\n",
       "      <th>end_date</th>\n",
       "      <th>id</th>\n",
       "      <th>instances</th>\n",
       "      <th>is_all_day</th>\n",
       "      <th>location</th>\n",
       "      <th>organizer</th>\n",
       "      <th>profile_id</th>\n",
       "      <th>start_date</th>\n",
       "      <th>timezone</th>\n",
       "      <th>title</th>\n",
       "      <th>updated</th>\n",
       "    </tr>\n",
       "  </thead>\n",
       "  <tbody>\n",
       "    <tr>\n",
       "      <th>0</th>\n",
       "      <td>00000000-007a-352b-99b8-2f903aff7e71MO22</td>\n",
       "      <td>[]</td>\n",
       "      <td>{u'displayName': u'e348d8d0564992652cc3e8e5ae7...</td>\n",
       "      <td>2016-11-02 06:55:25.771</td>\n",
       "      <td>NaN</td>\n",
       "      <td>2018-05-08 09:00:00.000</td>\n",
       "      <td>22</td>\n",
       "      <td>[]</td>\n",
       "      <td>1</td>\n",
       "      <td>NaN</td>\n",
       "      <td>25bf8e1a2393f1108d37029b3df5593236c755742ec934...</td>\n",
       "      <td>00000000-007a-352b-99b8-2f903aff7e71MO</td>\n",
       "      <td>2018-05-07 09:00:00.000</td>\n",
       "      <td>UTC</td>\n",
       "      <td>대체공휴일</td>\n",
       "      <td>2016-11-02 06:55:25.774</td>\n",
       "    </tr>\n",
       "    <tr>\n",
       "      <th>1</th>\n",
       "      <td>00000000-007a-352b-99b8-2f903aff7e71MO23</td>\n",
       "      <td>[]</td>\n",
       "      <td>{u'displayName': u'e348d8d0564992652cc3e8e5ae7...</td>\n",
       "      <td>2016-11-02 06:55:25.771</td>\n",
       "      <td>NaN</td>\n",
       "      <td>2019-05-07 09:00:00.000</td>\n",
       "      <td>23</td>\n",
       "      <td>[]</td>\n",
       "      <td>1</td>\n",
       "      <td>NaN</td>\n",
       "      <td>25bf8e1a2393f1108d37029b3df5593236c755742ec934...</td>\n",
       "      <td>00000000-007a-352b-99b8-2f903aff7e71MO</td>\n",
       "      <td>2019-05-06 09:00:00.000</td>\n",
       "      <td>UTC</td>\n",
       "      <td>대체공휴일</td>\n",
       "      <td>2016-11-02 06:55:25.775</td>\n",
       "    </tr>\n",
       "    <tr>\n",
       "      <th>2</th>\n",
       "      <td>00000000-007a-352b-99b8-2f903aff7e71MO21</td>\n",
       "      <td>[]</td>\n",
       "      <td>{u'displayName': u'e348d8d0564992652cc3e8e5ae7...</td>\n",
       "      <td>2016-11-02 06:55:25.771</td>\n",
       "      <td>NaN</td>\n",
       "      <td>2036-01-31 09:00:00.000</td>\n",
       "      <td>21</td>\n",
       "      <td>[]</td>\n",
       "      <td>1</td>\n",
       "      <td>NaN</td>\n",
       "      <td>25bf8e1a2393f1108d37029b3df5593236c755742ec934...</td>\n",
       "      <td>00000000-007a-352b-99b8-2f903aff7e71MO</td>\n",
       "      <td>2036-01-30 09:00:00.000</td>\n",
       "      <td>UTC</td>\n",
       "      <td>대체공휴일</td>\n",
       "      <td>2016-11-02 06:55:25.773</td>\n",
       "    </tr>\n",
       "    <tr>\n",
       "      <th>3</th>\n",
       "      <td>00000000-007a-352b-99b8-2f903aff7e71MO26</td>\n",
       "      <td>[]</td>\n",
       "      <td>{u'displayName': u'e348d8d0564992652cc3e8e5ae7...</td>\n",
       "      <td>2016-11-02 06:55:25.771</td>\n",
       "      <td>NaN</td>\n",
       "      <td>2030-05-07 09:00:00.000</td>\n",
       "      <td>26</td>\n",
       "      <td>[]</td>\n",
       "      <td>1</td>\n",
       "      <td>NaN</td>\n",
       "      <td>25bf8e1a2393f1108d37029b3df5593236c755742ec934...</td>\n",
       "      <td>00000000-007a-352b-99b8-2f903aff7e71MO</td>\n",
       "      <td>2030-05-06 09:00:00.000</td>\n",
       "      <td>UTC</td>\n",
       "      <td>대체공휴일</td>\n",
       "      <td>2016-11-02 06:55:25.777</td>\n",
       "    </tr>\n",
       "    <tr>\n",
       "      <th>4</th>\n",
       "      <td>00000000-007a-352b-99b8-2f903aff7e71MO24</td>\n",
       "      <td>[]</td>\n",
       "      <td>{u'displayName': u'e348d8d0564992652cc3e8e5ae7...</td>\n",
       "      <td>2016-11-02 06:55:25.771</td>\n",
       "      <td>NaN</td>\n",
       "      <td>2024-05-07 09:00:00.000</td>\n",
       "      <td>24</td>\n",
       "      <td>[]</td>\n",
       "      <td>1</td>\n",
       "      <td>NaN</td>\n",
       "      <td>25bf8e1a2393f1108d37029b3df5593236c755742ec934...</td>\n",
       "      <td>00000000-007a-352b-99b8-2f903aff7e71MO</td>\n",
       "      <td>2024-05-06 09:00:00.000</td>\n",
       "      <td>UTC</td>\n",
       "      <td>대체공휴일</td>\n",
       "      <td>2016-11-02 06:55:25.775</td>\n",
       "    </tr>\n",
       "  </tbody>\n",
       "</table>\n",
       "</div>"
      ],
      "text/plain": [
       "                                        _id attendees  \\\n",
       "0  00000000-007a-352b-99b8-2f903aff7e71MO22        []   \n",
       "1  00000000-007a-352b-99b8-2f903aff7e71MO23        []   \n",
       "2  00000000-007a-352b-99b8-2f903aff7e71MO21        []   \n",
       "3  00000000-007a-352b-99b8-2f903aff7e71MO26        []   \n",
       "4  00000000-007a-352b-99b8-2f903aff7e71MO24        []   \n",
       "\n",
       "                                            calendar                  created  \\\n",
       "0  {u'displayName': u'e348d8d0564992652cc3e8e5ae7...  2016-11-02 06:55:25.771   \n",
       "1  {u'displayName': u'e348d8d0564992652cc3e8e5ae7...  2016-11-02 06:55:25.771   \n",
       "2  {u'displayName': u'e348d8d0564992652cc3e8e5ae7...  2016-11-02 06:55:25.771   \n",
       "3  {u'displayName': u'e348d8d0564992652cc3e8e5ae7...  2016-11-02 06:55:25.771   \n",
       "4  {u'displayName': u'e348d8d0564992652cc3e8e5ae7...  2016-11-02 06:55:25.771   \n",
       "\n",
       "  description                 end_date  id instances  is_all_day location  \\\n",
       "0         NaN  2018-05-08 09:00:00.000  22        []           1      NaN   \n",
       "1         NaN  2019-05-07 09:00:00.000  23        []           1      NaN   \n",
       "2         NaN  2036-01-31 09:00:00.000  21        []           1      NaN   \n",
       "3         NaN  2030-05-07 09:00:00.000  26        []           1      NaN   \n",
       "4         NaN  2024-05-07 09:00:00.000  24        []           1      NaN   \n",
       "\n",
       "                                           organizer  \\\n",
       "0  25bf8e1a2393f1108d37029b3df5593236c755742ec934...   \n",
       "1  25bf8e1a2393f1108d37029b3df5593236c755742ec934...   \n",
       "2  25bf8e1a2393f1108d37029b3df5593236c755742ec934...   \n",
       "3  25bf8e1a2393f1108d37029b3df5593236c755742ec934...   \n",
       "4  25bf8e1a2393f1108d37029b3df5593236c755742ec934...   \n",
       "\n",
       "                               profile_id               start_date timezone  \\\n",
       "0  00000000-007a-352b-99b8-2f903aff7e71MO  2018-05-07 09:00:00.000      UTC   \n",
       "1  00000000-007a-352b-99b8-2f903aff7e71MO  2019-05-06 09:00:00.000      UTC   \n",
       "2  00000000-007a-352b-99b8-2f903aff7e71MO  2036-01-30 09:00:00.000      UTC   \n",
       "3  00000000-007a-352b-99b8-2f903aff7e71MO  2030-05-06 09:00:00.000      UTC   \n",
       "4  00000000-007a-352b-99b8-2f903aff7e71MO  2024-05-06 09:00:00.000      UTC   \n",
       "\n",
       "   title                  updated  \n",
       "0  대체공휴일  2016-11-02 06:55:25.774  \n",
       "1  대체공휴일  2016-11-02 06:55:25.775  \n",
       "2  대체공휴일  2016-11-02 06:55:25.773  \n",
       "3  대체공휴일  2016-11-02 06:55:25.777  \n",
       "4  대체공휴일  2016-11-02 06:55:25.775  "
      ]
     },
     "execution_count": 43,
     "metadata": {},
     "output_type": "execute_result"
    }
   ],
   "source": [
    "df_cal.head()"
   ]
  },
  {
   "cell_type": "code",
   "execution_count": 44,
   "metadata": {},
   "outputs": [
    {
     "data": {
      "text/plain": [
       "1    7629\n",
       "0     452\n",
       "Name: is_all_day, dtype: int64"
      ]
     },
     "execution_count": 44,
     "metadata": {},
     "output_type": "execute_result"
    }
   ],
   "source": [
    "df_cal.is_all_day.value_counts()"
   ]
  },
  {
   "cell_type": "code",
   "execution_count": 45,
   "metadata": {},
   "outputs": [
    {
     "data": {
      "text/plain": [
       "<matplotlib.axes._subplots.AxesSubplot at 0x116a27c90>"
      ]
     },
     "execution_count": 45,
     "metadata": {},
     "output_type": "execute_result"
    },
    {
     "data": {
      "image/png": "[encoded data removed]",
      "text/plain": [
       "<matplotlib.figure.Figure at 0x116a27b10>"
      ]
     },
     "metadata": {},
     "output_type": "display_data"
    }
   ],
   "source": [
    "df_cal['is_all_day'].hist(bins=4)"
   ]
  },
  {
   "cell_type": "code",
   "execution_count": 46,
   "metadata": {},
   "outputs": [
    {
     "data": {
      "text/plain": [
       "<matplotlib.axes._subplots.AxesSubplot at 0x1154f98d0>"
      ]
     },
     "execution_count": 46,
     "metadata": {},
     "output_type": "execute_result"
    },
    {
     "data": {
      "image/png": "[encoded data removed]",
      "text/plain": [
       "<matplotlib.figure.Figure at 0x1164b5a90>"
      ]
     },
     "metadata": {},
     "output_type": "display_data"
    }
   ],
   "source": [
    "df_cal.boxplot(column='is_all_day')"
   ]
  },
  {
   "cell_type": "markdown",
   "metadata": {},
   "source": [
    "# Data munging in Python\n",
    "## 1. Data munging – recap of the need\n",
    "### Check missing values and impute in dataset"
   ]
  },
  {
   "cell_type": "code",
   "execution_count": 47,
   "metadata": {
    "scrolled": false
   },
   "outputs": [
    {
     "data": {
      "text/plain": [
       "_id                    0\n",
       "created                0\n",
       "email              10456\n",
       "id                     0\n",
       "last_contacted         1\n",
       "name                   0\n",
       "phone_numbers          0\n",
       "profile_id             0\n",
       "starred                0\n",
       "times_contacted        0\n",
       "updated                0\n",
       "dtype: int64"
      ]
     },
     "execution_count": 47,
     "metadata": {},
     "output_type": "execute_result"
    }
   ],
   "source": [
    "df.apply(lambda a: sum(a.isnull()),axis=0) "
   ]
  },
  {
   "cell_type": "code",
   "execution_count": 48,
   "metadata": {},
   "outputs": [
    {
     "data": {
      "text/plain": [
       "_id               0\n",
       "attendees         0\n",
       "calendar          0\n",
       "created           0\n",
       "description    7961\n",
       "end_date       3410\n",
       "id                0\n",
       "instances         0\n",
       "is_all_day        0\n",
       "location       8076\n",
       "organizer        11\n",
       "profile_id        0\n",
       "start_date     3360\n",
       "timezone          0\n",
       "title            13\n",
       "updated           0\n",
       "dtype: int64"
      ]
     },
     "execution_count": 48,
     "metadata": {},
     "output_type": "execute_result"
    }
   ],
   "source": [
    "df_cal.apply(lambda x: sum(x.isnull()), axis = 0)"
   ]
  },
  {
   "cell_type": "code",
   "execution_count": 54,
   "metadata": {
    "collapsed": true
   },
   "outputs": [],
   "source": [
    "df_cont = pd.read_csv(\"contact.csv\", index_col=None)"
   ]
  },
  {
   "cell_type": "code",
   "execution_count": 55,
   "metadata": {},
   "outputs": [
    {
     "data": {
      "text/html": [
       "<div>\n",
       "<style>\n",
       "    .dataframe thead tr:only-child th {\n",
       "        text-align: right;\n",
       "    }\n",
       "\n",
       "    .dataframe thead th {\n",
       "        text-align: left;\n",
       "    }\n",
       "\n",
       "    .dataframe tbody tr th {\n",
       "        vertical-align: top;\n",
       "    }\n",
       "</style>\n",
       "<table border=\"1\" class=\"dataframe\">\n",
       "  <thead>\n",
       "    <tr style=\"text-align: right;\">\n",
       "      <th></th>\n",
       "      <th>_id</th>\n",
       "      <th>created</th>\n",
       "      <th>email</th>\n",
       "      <th>id</th>\n",
       "      <th>last_contacted</th>\n",
       "      <th>name</th>\n",
       "      <th>phone_numbers</th>\n",
       "      <th>profile_id</th>\n",
       "      <th>starred</th>\n",
       "      <th>times_contacted</th>\n",
       "      <th>updated</th>\n",
       "    </tr>\n",
       "  </thead>\n",
       "  <tbody>\n",
       "    <tr>\n",
       "      <th>0</th>\n",
       "      <td>00000000-007a-352b-99b8-2f903aff7e71MO0r1-0C90...</td>\n",
       "      <td>2016-11-02 06:55:22.372</td>\n",
       "      <td>NaN</td>\n",
       "      <td>0r1-0C9044261C581654063A1430691C301030030C9044</td>\n",
       "      <td>1.478049e+12</td>\n",
       "      <td>e079b5c8da7c98ad0b93984550aa9cbe921d34d1a3d7e2...</td>\n",
       "      <td>[{u'type': u'mobile', u'number': u'0e714d1de2e...</td>\n",
       "      <td>00000000-007a-352b-99b8-2f903aff7e71MO</td>\n",
       "      <td>0</td>\n",
       "      <td>21</td>\n",
       "      <td>2016-11-02 06:55:22.373</td>\n",
       "    </tr>\n",
       "    <tr>\n",
       "      <th>1</th>\n",
       "      <td>00000000-007a-352b-99b8-2f903aff7e71MO0r2-0C90...</td>\n",
       "      <td>2016-11-02 06:55:22.372</td>\n",
       "      <td>NaN</td>\n",
       "      <td>0r2-0C9044260A32183010308512301258030C9044</td>\n",
       "      <td>1.478049e+12</td>\n",
       "      <td>4ef566502f45a57067510b893d72ae5395889757df3c17...</td>\n",
       "      <td>[{u'type': u'mobile', u'number': u'9235d66b6a1...</td>\n",
       "      <td>00000000-007a-352b-99b8-2f903aff7e71MO</td>\n",
       "      <td>0</td>\n",
       "      <td>26</td>\n",
       "      <td>2016-11-02 06:55:22.374</td>\n",
       "    </tr>\n",
       "    <tr>\n",
       "      <th>2</th>\n",
       "      <td>00000000-007a-352b-99b8-2f903aff7e71MO0r3-0C90...</td>\n",
       "      <td>2016-11-02 06:55:22.372</td>\n",
       "      <td>NaN</td>\n",
       "      <td>0r3-0C9044260A32183010308516301630030C9044</td>\n",
       "      <td>1.477788e+12</td>\n",
       "      <td>4ef566502f45a57067510b893d72ae5395889757df3c17...</td>\n",
       "      <td>[{u'type': u'mobile', u'number': u'f83e33aaa81...</td>\n",
       "      <td>00000000-007a-352b-99b8-2f903aff7e71MO</td>\n",
       "      <td>0</td>\n",
       "      <td>2</td>\n",
       "      <td>2016-11-02 06:55:22.374</td>\n",
       "    </tr>\n",
       "    <tr>\n",
       "      <th>3</th>\n",
       "      <td>00000000-007a-352b-99b8-2f903aff7e71MO0r11-261...</td>\n",
       "      <td>2016-11-02 06:55:22.372</td>\n",
       "      <td>NaN</td>\n",
       "      <td>0r11-261C581E58184A</td>\n",
       "      <td>1.477765e+12</td>\n",
       "      <td>a03b221c6c6eae7122ca51695d456d5222e52488913639...</td>\n",
       "      <td>[{u'type': u'mobile', u'number': u'fe41c4666a9...</td>\n",
       "      <td>00000000-007a-352b-99b8-2f903aff7e71MO</td>\n",
       "      <td>0</td>\n",
       "      <td>1</td>\n",
       "      <td>2016-11-02 06:55:22.378</td>\n",
       "    </tr>\n",
       "    <tr>\n",
       "      <th>4</th>\n",
       "      <td>00000000-007a-352b-99b8-2f903aff7e71MO0r4-2614...</td>\n",
       "      <td>2016-11-02 06:55:22.372</td>\n",
       "      <td>NaN</td>\n",
       "      <td>0r4-26143C6B1C58030C9044</td>\n",
       "      <td>0.000000e+00</td>\n",
       "      <td>a03b221c6c6eae7122ca51695d456d5222e52488913639...</td>\n",
       "      <td>[{u'type': u'mobile', u'number': u'cfed8b65459...</td>\n",
       "      <td>00000000-007a-352b-99b8-2f903aff7e71MO</td>\n",
       "      <td>0</td>\n",
       "      <td>0</td>\n",
       "      <td>2016-11-02 06:55:22.375</td>\n",
       "    </tr>\n",
       "  </tbody>\n",
       "</table>\n",
       "</div>"
      ],
      "text/plain": [
       "                                                 _id                  created  \\\n",
       "0  00000000-007a-352b-99b8-2f903aff7e71MO0r1-0C90...  2016-11-02 06:55:22.372   \n",
       "1  00000000-007a-352b-99b8-2f903aff7e71MO0r2-0C90...  2016-11-02 06:55:22.372   \n",
       "2  00000000-007a-352b-99b8-2f903aff7e71MO0r3-0C90...  2016-11-02 06:55:22.372   \n",
       "3  00000000-007a-352b-99b8-2f903aff7e71MO0r11-261...  2016-11-02 06:55:22.372   \n",
       "4  00000000-007a-352b-99b8-2f903aff7e71MO0r4-2614...  2016-11-02 06:55:22.372   \n",
       "\n",
       "  email                                              id  last_contacted  \\\n",
       "0   NaN  0r1-0C9044261C581654063A1430691C301030030C9044    1.478049e+12   \n",
       "1   NaN      0r2-0C9044260A32183010308512301258030C9044    1.478049e+12   \n",
       "2   NaN      0r3-0C9044260A32183010308516301630030C9044    1.477788e+12   \n",
       "3   NaN                             0r11-261C581E58184A    1.477765e+12   \n",
       "4   NaN                        0r4-26143C6B1C58030C9044    0.000000e+00   \n",
       "\n",
       "                                                name  \\\n",
       "0  e079b5c8da7c98ad0b93984550aa9cbe921d34d1a3d7e2...   \n",
       "1  4ef566502f45a57067510b893d72ae5395889757df3c17...   \n",
       "2  4ef566502f45a57067510b893d72ae5395889757df3c17...   \n",
       "3  a03b221c6c6eae7122ca51695d456d5222e52488913639...   \n",
       "4  a03b221c6c6eae7122ca51695d456d5222e52488913639...   \n",
       "\n",
       "                                       phone_numbers  \\\n",
       "0  [{u'type': u'mobile', u'number': u'0e714d1de2e...   \n",
       "1  [{u'type': u'mobile', u'number': u'9235d66b6a1...   \n",
       "2  [{u'type': u'mobile', u'number': u'f83e33aaa81...   \n",
       "3  [{u'type': u'mobile', u'number': u'fe41c4666a9...   \n",
       "4  [{u'type': u'mobile', u'number': u'cfed8b65459...   \n",
       "\n",
       "                               profile_id  starred  times_contacted  \\\n",
       "0  00000000-007a-352b-99b8-2f903aff7e71MO        0               21   \n",
       "1  00000000-007a-352b-99b8-2f903aff7e71MO        0               26   \n",
       "2  00000000-007a-352b-99b8-2f903aff7e71MO        0                2   \n",
       "3  00000000-007a-352b-99b8-2f903aff7e71MO        0                1   \n",
       "4  00000000-007a-352b-99b8-2f903aff7e71MO        0                0   \n",
       "\n",
       "                   updated  \n",
       "0  2016-11-02 06:55:22.373  \n",
       "1  2016-11-02 06:55:22.374  \n",
       "2  2016-11-02 06:55:22.374  \n",
       "3  2016-11-02 06:55:22.378  \n",
       "4  2016-11-02 06:55:22.375  "
      ]
     },
     "execution_count": 55,
     "metadata": {},
     "output_type": "execute_result"
    }
   ],
   "source": [
    "df_cont.head()"
   ]
  },
  {
   "cell_type": "code",
   "execution_count": 56,
   "metadata": {},
   "outputs": [
    {
     "data": {
      "text/plain": [
       "(10509, 11)"
      ]
     },
     "execution_count": 56,
     "metadata": {},
     "output_type": "execute_result"
    }
   ],
   "source": [
    "df_cont.shape"
   ]
  },
  {
   "cell_type": "code",
   "execution_count": 57,
   "metadata": {},
   "outputs": [
    {
     "data": {
      "text/plain": [
       "_id                    0\n",
       "created                0\n",
       "email              10456\n",
       "id                     0\n",
       "last_contacted         1\n",
       "name                   0\n",
       "phone_numbers          0\n",
       "profile_id             0\n",
       "starred                0\n",
       "times_contacted        0\n",
       "updated                0\n",
       "dtype: int64"
      ]
     },
     "execution_count": 57,
     "metadata": {},
     "output_type": "execute_result"
    }
   ],
   "source": [
    "df_cont.apply(lambda c: sum(c.isnull()),axis=0) "
   ]
  },
  {
   "cell_type": "markdown",
   "metadata": {},
   "source": [
    "### Dimensionality reduction"
   ]
  },
  {
   "cell_type": "code",
   "execution_count": 58,
   "metadata": {},
   "outputs": [
    {
     "data": {
      "text/plain": [
       "<matplotlib.axes._subplots.AxesSubplot at 0x1a21002b50>"
      ]
     },
     "execution_count": 58,
     "metadata": {},
     "output_type": "execute_result"
    },
    {
     "data": {
      "image/png": "[encoded data removed]",
      "text/plain": [
       "<matplotlib.figure.Figure at 0x1a21002610>"
      ]
     },
     "metadata": {},
     "output_type": "display_data"
    }
   ],
   "source": [
    "import seaborn as sns\n",
    "\n",
    "corr = df_cont.corr().abs()\n",
    "sns.heatmap(corr, xticklabels=False, yticklabels=False)"
   ]
  },
  {
   "cell_type": "code",
   "execution_count": 59,
   "metadata": {
    "collapsed": true
   },
   "outputs": [],
   "source": [
    "corrMatrix = df.corr()\n",
    "corrMatrix.loc[:,:] = np.tril(corrMatrix, k=-1) \n",
    "\n",
    "already_in = set()\n",
    "result = []\n",
    "for col in corrMatrix:\n",
    "    perfect_corr = corrMatrix[col][corrMatrix[col] == 1].index.tolist()\n",
    "    if perfect_corr and col not in already_in:\n",
    "        already_in.update(set(perfect_corr))\n",
    "        perfect_corr.append(col)\n",
    "        result.append(perfect_corr)"
   ]
  },
  {
   "cell_type": "code",
   "execution_count": 60,
   "metadata": {},
   "outputs": [
    {
     "data": {
      "text/plain": [
       "[]"
      ]
     },
     "execution_count": 60,
     "metadata": {},
     "output_type": "execute_result"
    }
   ],
   "source": [
    "result"
   ]
  },
  {
   "cell_type": "code",
   "execution_count": 142,
   "metadata": {
    "collapsed": true
   },
   "outputs": [],
   "source": [
    "# if columes are highly correlated, delete redundant column(s)\n",
    "del df['EXAMPLE'] # This is example"
   ]
  },
  {
   "cell_type": "code",
   "execution_count": 145,
   "metadata": {},
   "outputs": [
    {
     "data": {
      "text/plain": [
       "<matplotlib.axes._subplots.AxesSubplot at 0x114ad2e10>"
      ]
     },
     "execution_count": 145,
     "metadata": {},
     "output_type": "execute_result"
    },
    {
     "data": {
      "image/png": "[encoded data removed]",
      "text/plain": [
       "<matplotlib.figure.Figure at 0x11cebdd10>"
      ]
     },
     "metadata": {},
     "output_type": "display_data"
    }
   ],
   "source": [
    "# This is an example for correlation matrix\n",
    "\n",
    "#corr = df.corr().abs()\n",
    "#sns.heatmap(corr, xticklabels=False, yticklabels=False)"
   ]
  },
  {
   "cell_type": "markdown",
   "metadata": {
    "collapsed": true
   },
   "source": [
    "# HW 1-1\n",
    "\n",
    "## 1.create simple csv file \n",
    "\n",
    "## 2. load csv with Pandas\n",
    "\n",
    "## 3. delete 3rd column\n",
    "\n",
    "## 4. add the column at the last\n",
    "\n",
    "\n",
    "# HW 1-2\n",
    "\n",
    "## 1. load calendar.csv with Pandas\n",
    "\n",
    "## 2. delete 3rd column\n",
    "\n",
    "## 3. create subset of dataframe: select rows if 'is_all_day' == 0\n",
    "\n",
    "\n",
    "### select one of above!"
   ]
  },
  {
   "cell_type": "code",
   "execution_count": null,
   "metadata": {
    "collapsed": true
   },
   "outputs": [],
   "source": []
  }
 ],
 "metadata": {
  "kernelspec": {
   "display_name": "Python 2",
   "language": "python",
   "name": "python2"
  },
  "language_info": {
   "codemirror_mode": {
    "name": "ipython",
    "version": 2
   },
   "file_extension": ".py",
   "mimetype": "text/x-python",
   "name": "python",
   "nbconvert_exporter": "python",
   "pygments_lexer": "ipython2",
   "version": "2.7.14"
  }
 },
 "nbformat": 4,
 "nbformat_minor": 2
}
