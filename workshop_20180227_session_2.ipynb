{
 "cells": [
  {
   "cell_type": "markdown",
   "metadata": {},
   "source": [
    "# Python Hands-on training - Session 2"
   ]
  },
  {
   "cell_type": "code",
   "execution_count": 1,
   "metadata": {
    "collapsed": true
   },
   "outputs": [],
   "source": [
    "import pandas as pd\n",
    "from datetime import datetime"
   ]
  },
  {
   "cell_type": "code",
   "execution_count": 2,
   "metadata": {
    "scrolled": true
   },
   "outputs": [
    {
     "name": "stdout",
     "output_type": "stream",
     "text": [
      "apps.json      calendar.json  call.json      contact.json   sample.json\r\n"
     ]
    }
   ],
   "source": [
    "ls *.json"
   ]
  },
  {
   "cell_type": "markdown",
   "metadata": {},
   "source": [
    "## Functions"
   ]
  },
  {
   "cell_type": "code",
   "execution_count": 3,
   "metadata": {
    "collapsed": true
   },
   "outputs": [],
   "source": [
    "def testFunc():\n",
    "    print \"Hello!\"\n",
    "    print \"World!\""
   ]
  },
  {
   "cell_type": "code",
   "execution_count": 4,
   "metadata": {},
   "outputs": [
    {
     "name": "stdout",
     "output_type": "stream",
     "text": [
      "Hello!\n",
      "World!\n"
     ]
    }
   ],
   "source": [
    "testFunc()"
   ]
  },
  {
   "cell_type": "code",
   "execution_count": 5,
   "metadata": {
    "collapsed": true
   },
   "outputs": [],
   "source": [
    "def testFunc(first_str, second_str):\n",
    "    print \"first: \", first_str\n",
    "    print \"second: \" + second_str"
   ]
  },
  {
   "cell_type": "code",
   "execution_count": 6,
   "metadata": {},
   "outputs": [
    {
     "name": "stdout",
     "output_type": "stream",
     "text": [
      "first:  first\n",
      "second: second\n"
     ]
    }
   ],
   "source": [
    "testFunc(\"first\", \"second\")"
   ]
  },
  {
   "cell_type": "code",
   "execution_count": 7,
   "metadata": {},
   "outputs": [
    {
     "name": "stdout",
     "output_type": "stream",
     "text": [
      "Please enter first string : comeback\n",
      "Please enter second string : home\n"
     ]
    }
   ],
   "source": [
    "str1 = raw_input('Please enter first string : ')\n",
    "str2 = raw_input('Please enter second string : ')"
   ]
  },
  {
   "cell_type": "code",
   "execution_count": 8,
   "metadata": {},
   "outputs": [
    {
     "name": "stdout",
     "output_type": "stream",
     "text": [
      "first:  comeback\n",
      "second: home\n"
     ]
    }
   ],
   "source": [
    "testFunc(str1, str2)"
   ]
  },
  {
   "cell_type": "code",
   "execution_count": 9,
   "metadata": {
    "scrolled": true
   },
   "outputs": [
    {
     "ename": "TypeError",
     "evalue": "testFunc() takes exactly 2 arguments (1 given)",
     "output_type": "error",
     "traceback": [
      "\u001b[0;31m---------------------------------------------------------------------------\u001b[0m",
      "\u001b[0;31mTypeError\u001b[0m                                 Traceback (most recent call last)",
      "\u001b[0;32m<ipython-input-9-f54ba3b236eb>\u001b[0m in \u001b[0;36m<module>\u001b[0;34m()\u001b[0m\n\u001b[0;32m----> 1\u001b[0;31m \u001b[0mtestFunc\u001b[0m\u001b[0;34m(\u001b[0m\u001b[0mstr1\u001b[0m\u001b[0;34m)\u001b[0m\u001b[0;34m\u001b[0m\u001b[0m\n\u001b[0m",
      "\u001b[0;31mTypeError\u001b[0m: testFunc() takes exactly 2 arguments (1 given)"
     ]
    }
   ],
   "source": [
    "# ERROR!! due to single argument instead of 2\n",
    "testFunc(str1)"
   ]
  },
  {
   "cell_type": "markdown",
   "metadata": {},
   "source": [
    "## Return statement"
   ]
  },
  {
   "cell_type": "code",
   "execution_count": 10,
   "metadata": {
    "collapsed": true
   },
   "outputs": [],
   "source": [
    "def multiply(x, y):\n",
    "    z = x * y\n",
    "    return z"
   ]
  },
  {
   "cell_type": "code",
   "execution_count": 11,
   "metadata": {
    "scrolled": true
   },
   "outputs": [
    {
     "name": "stdout",
     "output_type": "stream",
     "text": [
      "20\n"
     ]
    }
   ],
   "source": [
    "c = multiply(4,5)\n",
    "print c"
   ]
  },
  {
   "cell_type": "code",
   "execution_count": 12,
   "metadata": {
    "collapsed": true
   },
   "outputs": [],
   "source": [
    "multiply?"
   ]
  },
  {
   "cell_type": "code",
   "execution_count": 13,
   "metadata": {
    "collapsed": true
   },
   "outputs": [],
   "source": [
    "def multiply(x,y):\n",
    "    '''return x * y'''\n",
    "    return x * y"
   ]
  },
  {
   "cell_type": "code",
   "execution_count": 14,
   "metadata": {
    "collapsed": true
   },
   "outputs": [],
   "source": [
    "multiply?"
   ]
  },
  {
   "cell_type": "code",
   "execution_count": 15,
   "metadata": {
    "collapsed": true
   },
   "outputs": [],
   "source": [
    "sample_list = [10, 5, 39, 12, 6, 8, 100]"
   ]
  },
  {
   "cell_type": "code",
   "execution_count": 16,
   "metadata": {
    "collapsed": true
   },
   "outputs": [],
   "source": [
    "def sortFunc(input_list):\n",
    "    highest = max(input_list)\n",
    "    lowest = min(input_list)\n",
    "    first = input_list[0]\n",
    "    last = input_list[-1]\n",
    "    return highest, lowest, first, last"
   ]
  },
  {
   "cell_type": "code",
   "execution_count": 17,
   "metadata": {},
   "outputs": [
    {
     "data": {
      "text/plain": [
       "(100, 5, 10, 100)"
      ]
     },
     "execution_count": 17,
     "metadata": {},
     "output_type": "execute_result"
    }
   ],
   "source": [
    "sortFunc(sample_list)"
   ]
  },
  {
   "cell_type": "markdown",
   "metadata": {},
   "source": [
    "## Let's creat some functions\n",
    "\n",
    "### (Exercise 1) Write a Python function to multiply all the numbers in a list.\n",
    "Sample List : (8, 2, 3, -1, 7)\n",
    "=> Expected Output : -336 "
   ]
  },
  {
   "cell_type": "code",
   "execution_count": 18,
   "metadata": {},
   "outputs": [
    {
     "name": "stdout",
     "output_type": "stream",
     "text": [
      "-336\n"
     ]
    }
   ],
   "source": [
    "#Solution\n",
    "def multiply(numbers):  \n",
    "    total = 1\n",
    "    for x in numbers:\n",
    "        total *= x  \n",
    "    return total  \n",
    "print(multiply((8, 2, 3, -1, 7)))"
   ]
  },
  {
   "cell_type": "markdown",
   "metadata": {},
   "source": [
    "### (Exercise 2) Write a method which can calculate square value of number\n",
    "\n",
    "Hints:\n",
    "    Using the ** operator"
   ]
  },
  {
   "cell_type": "code",
   "execution_count": 19,
   "metadata": {},
   "outputs": [
    {
     "data": {
      "text/plain": [
       "16"
      ]
     },
     "execution_count": 19,
     "metadata": {},
     "output_type": "execute_result"
    }
   ],
   "source": [
    "4 ** 2 "
   ]
  },
  {
   "cell_type": "code",
   "execution_count": 20,
   "metadata": {},
   "outputs": [
    {
     "name": "stdout",
     "output_type": "stream",
     "text": [
      "4\n",
      "9\n"
     ]
    }
   ],
   "source": [
    "#Solution:\n",
    "def square(num):\n",
    "    return num ** 2\n",
    "\n",
    "print(square(2))\n",
    "print(square(3))"
   ]
  },
  {
   "cell_type": "markdown",
   "metadata": {},
   "source": [
    "## Create Features\n",
    "### load apps data"
   ]
  },
  {
   "cell_type": "code",
   "execution_count": 24,
   "metadata": {
    "collapsed": true,
    "scrolled": true
   },
   "outputs": [],
   "source": [
    "df_apps = pd.read_csv('apps.csv', index_col=None)"
   ]
  },
  {
   "cell_type": "markdown",
   "metadata": {},
   "source": [
    "### load calendar data"
   ]
  },
  {
   "cell_type": "code",
   "execution_count": 26,
   "metadata": {
    "collapsed": true
   },
   "outputs": [],
   "source": [
    "df_cal = pd.read_csv('calendar.csv')"
   ]
  },
  {
   "cell_type": "markdown",
   "metadata": {},
   "source": [
    "### load contact data"
   ]
  },
  {
   "cell_type": "code",
   "execution_count": 28,
   "metadata": {
    "collapsed": true
   },
   "outputs": [],
   "source": [
    "df_cont = pd.read_csv('contact.csv', index_col=None)"
   ]
  },
  {
   "cell_type": "markdown",
   "metadata": {},
   "source": [
    "### load call data"
   ]
  },
  {
   "cell_type": "code",
   "execution_count": 30,
   "metadata": {
    "collapsed": true
   },
   "outputs": [],
   "source": [
    "df_call = pd.read_csv('call.csv', index_col=None)"
   ]
  },
  {
   "cell_type": "markdown",
   "metadata": {},
   "source": [
    "### create subsets"
   ]
  },
  {
   "cell_type": "code",
   "execution_count": 32,
   "metadata": {
    "scrolled": true
   },
   "outputs": [
    {
     "data": {
      "text/plain": [
       "'00000000-007a-352b-99b8-2f903aff7e71MO'"
      ]
     },
     "execution_count": 32,
     "metadata": {},
     "output_type": "execute_result"
    }
   ],
   "source": [
    "df_cal['profile_id'][0]"
   ]
  },
  {
   "cell_type": "code",
   "execution_count": 33,
   "metadata": {
    "collapsed": true
   },
   "outputs": [],
   "source": [
    "sample_id = df_call['profile_id'][0]"
   ]
  },
  {
   "cell_type": "code",
   "execution_count": 35,
   "metadata": {},
   "outputs": [
    {
     "data": {
      "text/plain": [
       "'2018-05-07 09:00:00.000'"
      ]
     },
     "execution_count": 35,
     "metadata": {},
     "output_type": "execute_result"
    }
   ],
   "source": [
    "df_cal['start_date'][0]"
   ]
  },
  {
   "cell_type": "code",
   "execution_count": 36,
   "metadata": {},
   "outputs": [
    {
     "data": {
      "text/plain": [
       "dtype('O')"
      ]
     },
     "execution_count": 36,
     "metadata": {},
     "output_type": "execute_result"
    }
   ],
   "source": [
    "df_cal['start_date'].dtypes"
   ]
  },
  {
   "cell_type": "code",
   "execution_count": 37,
   "metadata": {
    "collapsed": true
   },
   "outputs": [],
   "source": [
    "df_cal['start_date'] =  pd.to_datetime(df_cal['start_date'], format='%Y-%m-%d %H:%M:%S.%f')\n"
   ]
  },
  {
   "cell_type": "code",
   "execution_count": 38,
   "metadata": {
    "scrolled": true
   },
   "outputs": [
    {
     "data": {
      "text/plain": [
       "Timestamp('2018-05-07 09:00:00')"
      ]
     },
     "execution_count": 38,
     "metadata": {},
     "output_type": "execute_result"
    }
   ],
   "source": [
    "df_cal['start_date'][0]"
   ]
  },
  {
   "cell_type": "code",
   "execution_count": 39,
   "metadata": {},
   "outputs": [],
   "source": [
    "df = df_cal[(df_cal['profile_id'] == sample_id) & (df_cal['start_date'] > '2012-10-01') & (df_cal['start_date'] < '2017-10-30')]"
   ]
  },
  {
   "cell_type": "markdown",
   "metadata": {},
   "source": [
    "## Let's create simple feature!"
   ]
  },
  {
   "cell_type": "code",
   "execution_count": 40,
   "metadata": {
    "collapsed": true
   },
   "outputs": [],
   "source": [
    "def nCal(df, profile_id, first_date, second_date):\n",
    "    rec = df[(df['profile_id'] == profile_id) \n",
    "             & (df['start_date'] > first_date) \n",
    "             & (df['start_date'] < second_date)]\n",
    "    if rec is not None:\n",
    "        return rec['profile_id'].count()\n",
    "    else:\n",
    "        return None"
   ]
  },
  {
   "cell_type": "code",
   "execution_count": 41,
   "metadata": {},
   "outputs": [
    {
     "data": {
      "text/plain": [
       "6"
      ]
     },
     "execution_count": 41,
     "metadata": {},
     "output_type": "execute_result"
    }
   ],
   "source": [
    "nCal(df_cal, sample_id, '2012-10-01','2017-10-30')"
   ]
  },
  {
   "cell_type": "markdown",
   "metadata": {},
   "source": [
    "### (Exercise 1) create feature functions to calculate std, min, max value of numbers has been contacted\n",
    "hint:\n",
    "\n",
    "use df_cont[\"times_contacted\"] and std(), min(), max() functions\n",
    "\n",
    "(usage)\n",
    "\n",
    "df_cont['times_contacted'].min()\n",
    "\n",
    "df_cont['times_contacted'].max()\n",
    "\n",
    "df_cont['times_contacted'].std()\n"
   ]
  },
  {
   "cell_type": "code",
   "execution_count": 42,
   "metadata": {
    "collapsed": true
   },
   "outputs": [],
   "source": [
    "def min_max_std(df, sample_id):\n",
    "    rec = df[df['profile_id'] == sample_id]\n",
    "    \n",
    "    return rec['times_contacted'].min(), rec['times_contacted'].max(), rec['times_contacted'].std()\n"
   ]
  },
  {
   "cell_type": "code",
   "execution_count": 43,
   "metadata": {},
   "outputs": [
    {
     "data": {
      "text/plain": [
       "(0, 26, 8.463561196793473)"
      ]
     },
     "execution_count": 43,
     "metadata": {},
     "output_type": "execute_result"
    }
   ],
   "source": [
    "min_max_std(df_cont, sample_id)"
   ]
  },
  {
   "cell_type": "markdown",
   "metadata": {},
   "source": [
    "### (Exercise 2) create feature function to calculate incoming over outgoing calls and percentage of missed calls\n",
    "hint:\n",
    "float(df_call['call_type'].count())\n",
    "\n",
    "incoming calls / outgoing calls\n",
    "\n",
    "missed calls / all calls * 100"
   ]
  },
  {
   "cell_type": "code",
   "execution_count": 48,
   "metadata": {
    "collapsed": true
   },
   "outputs": [],
   "source": [
    "def call_count(df, sample_id):\n",
    "    rec = df[df['profile_id'] == sample_id]\n",
    "    \n",
    "    incoming = rec[rec['call_type'] == 'incoming']['call_type'].count()  \n",
    "    outgoing = rec[rec['call_type'] == 'outgoing']['call_type'].count() \n",
    "    missed = rec[rec['call_type'] == 'missed']['call_type'].count() \n",
    "    \n",
    "    return float(incoming) / float(outgoing),  float(missed) / float(rec['call_type'].count()) * 100"
   ]
  },
  {
   "cell_type": "code",
   "execution_count": 49,
   "metadata": {},
   "outputs": [
    {
     "data": {
      "text/plain": [
       "(0.5436893203883495, 8.092485549132949)"
      ]
     },
     "execution_count": 49,
     "metadata": {},
     "output_type": "execute_result"
    }
   ],
   "source": [
    "call_count(df_call, df_call['profile_id'][0])"
   ]
  },
  {
   "cell_type": "markdown",
   "metadata": {},
   "source": [
    "### get all the feature values for all applicants"
   ]
  },
  {
   "cell_type": "code",
   "execution_count": 50,
   "metadata": {
    "scrolled": true
   },
   "outputs": [
    {
     "data": {
      "text/plain": [
       "37"
      ]
     },
     "execution_count": 50,
     "metadata": {},
     "output_type": "execute_result"
    }
   ],
   "source": [
    "len(df_cal['profile_id'].unique())"
   ]
  },
  {
   "cell_type": "code",
   "execution_count": 51,
   "metadata": {},
   "outputs": [
    {
     "data": {
      "text/plain": [
       "34"
      ]
     },
     "execution_count": 51,
     "metadata": {},
     "output_type": "execute_result"
    }
   ],
   "source": [
    "len(df_call['profile_id'].unique())"
   ]
  },
  {
   "cell_type": "code",
   "execution_count": 52,
   "metadata": {},
   "outputs": [
    {
     "data": {
      "text/plain": [
       "37"
      ]
     },
     "execution_count": 52,
     "metadata": {},
     "output_type": "execute_result"
    }
   ],
   "source": [
    "len(df_cont['profile_id'].unique())"
   ]
  },
  {
   "cell_type": "code",
   "execution_count": 53,
   "metadata": {},
   "outputs": [
    {
     "data": {
      "text/plain": [
       "37"
      ]
     },
     "execution_count": 53,
     "metadata": {},
     "output_type": "execute_result"
    }
   ],
   "source": [
    "len(df_apps['profile_id'].unique())"
   ]
  },
  {
   "cell_type": "code",
   "execution_count": 54,
   "metadata": {
    "collapsed": true
   },
   "outputs": [],
   "source": [
    "profile_ids = df_cal['profile_id'].unique()"
   ]
  },
  {
   "cell_type": "code",
   "execution_count": 55,
   "metadata": {
    "collapsed": true
   },
   "outputs": [
    {
     "data": {
      "text/plain": [
       "array(['00000000-007a-352b-99b8-2f903aff7e71MO',\n",
       "       '00000000-013a-c322-c57c-16ee43f7e635MO',\n",
       "       '00000000-0485-7fa1-2f3b-6ecd6c9a0089MO',\n",
       "       '00000000-0e47-bada-ffff-ffff8b99a7daMO',\n",
       "       '00000000-363c-207f-ffff-ffffa0fa259dMO',\n",
       "       '00000000-3b7d-40e9-1874-9f012a5ccaecMO',\n",
       "       '00000000-45f9-9f42-aef0-5f4717e2890aMO',\n",
       "       '00000000-46c0-d4ec-ffff-ffff8e0d63b0MO',\n",
       "       '00000000-50b6-ad1e-ffff-ffffc4cb99acMO',\n",
       "       '00000000-5c82-d50d-cfa3-6fe6264d0a12MO',\n",
       "       '00000000-621d-552b-ffff-ffffc18e1c6fMO',\n",
       "       '00000000-65d4-a7ba-c73e-ac8d59c1febcMO',\n",
       "       '00000000-7689-f382-f7f2-c35d2bad3437MO',\n",
       "       '00000000-7964-649a-fbde-6f5365fd788fMO',\n",
       "       '00000000-7d35-4e0c-fb3e-50aa327ff400MO',\n",
       "       '00000000-7ed9-3874-ffff-fffff4dd0a27MO',\n",
       "       'ffffffff-87e5-cac8-3fca-91fa6ac461d2MO',\n",
       "       'ffffffff-9318-7e52-c2ba-fd9f66f94b86MO',\n",
       "       'ffffffff-9426-c1e9-ffff-ffffd0723a39MO',\n",
       "       'ffffffff-9a59-9123-ffff-ffff8c5e718eMO',\n",
       "       'ffffffff-9aa7-8529-ffff-ffff81683b68MO',\n",
       "       'ffffffff-a020-8d2a-a7a7-10fa73f974e3MO',\n",
       "       'ffffffff-a5fc-ee2f-307e-310956c971ffMO',\n",
       "       'ffffffff-aae8-b95f-ffff-fffffb0156d7MO',\n",
       "       'ffffffff-ad81-0939-ffff-ffff9c8a82eeMO',\n",
       "       'ffffffff-af07-74cc-ffff-ffffc3d089f1MO',\n",
       "       'ffffffff-b039-d2aa-ffff-ffffbd09174fMO',\n",
       "       'ffffffff-b549-3bc4-ffff-ffffd729c334MO',\n",
       "       'ffffffff-bcad-e5a1-ffff-ffffdbfebd0fMO',\n",
       "       'ffffffff-c583-7fb9-ffff-ffff8e5e0d9fMO',\n",
       "       'ffffffff-cc03-8f0f-6bee-5a3604258e85MO',\n",
       "       'ffffffff-d76f-22d9-9c39-8d532f0b8987MO',\n",
       "       'ffffffff-d7e2-9eda-9d95-c1003dffb9b5MO',\n",
       "       'ffffffff-d956-939a-d9e9-10dc73a94fa0MO',\n",
       "       'ffffffff-eeab-3be2-97b1-02b156889bd3MO',\n",
       "       'ffffffff-f10f-ca1b-46d4-138303c25121MO',\n",
       "       'ffffffff-f8ba-eb97-ffff-ffffc8c73cebMO'], dtype=object)"
      ]
     },
     "execution_count": 55,
     "metadata": {},
     "output_type": "execute_result"
    }
   ],
   "source": [
    "profile_ids"
   ]
  },
  {
   "cell_type": "code",
   "execution_count": 61,
   "metadata": {
    "collapsed": true
   },
   "outputs": [
    {
     "name": "stdout",
     "output_type": "stream",
     "text": [
      "profile_id: 00000000-007a-352b-99b8-2f903aff7e71MO\n",
      "number of apps installed:  6\n",
      "profile_id: 00000000-013a-c322-c57c-16ee43f7e635MO\n",
      "number of apps installed:  85\n",
      "profile_id: 00000000-0485-7fa1-2f3b-6ecd6c9a0089MO\n",
      "number of apps installed:  10\n",
      "profile_id: 00000000-0e47-bada-ffff-ffff8b99a7daMO\n",
      "number of apps installed:  128\n",
      "profile_id: 00000000-363c-207f-ffff-ffffa0fa259dMO\n",
      "number of apps installed:  83\n",
      "profile_id: 00000000-3b7d-40e9-1874-9f012a5ccaecMO\n",
      "number of apps installed:  11\n",
      "profile_id: 00000000-45f9-9f42-aef0-5f4717e2890aMO\n",
      "number of apps installed:  22\n",
      "profile_id: 00000000-46c0-d4ec-ffff-ffff8e0d63b0MO\n",
      "number of apps installed:  9\n",
      "profile_id: 00000000-50b6-ad1e-ffff-ffffc4cb99acMO\n",
      "number of apps installed:  6\n",
      "profile_id: 00000000-5c82-d50d-cfa3-6fe6264d0a12MO\n",
      "number of apps installed:  348\n",
      "profile_id: 00000000-621d-552b-ffff-ffffc18e1c6fMO\n",
      "number of apps installed:  16\n",
      "profile_id: 00000000-65d4-a7ba-c73e-ac8d59c1febcMO\n",
      "number of apps installed:  9\n",
      "profile_id: 00000000-7689-f382-f7f2-c35d2bad3437MO\n",
      "number of apps installed:  6\n",
      "profile_id: 00000000-7964-649a-fbde-6f5365fd788fMO\n",
      "number of apps installed:  6\n",
      "profile_id: 00000000-7d35-4e0c-fb3e-50aa327ff400MO\n",
      "number of apps installed:  57\n",
      "profile_id: 00000000-7ed9-3874-ffff-fffff4dd0a27MO\n",
      "number of apps installed:  8\n",
      "profile_id: ffffffff-87e5-cac8-3fca-91fa6ac461d2MO\n",
      "number of apps installed:  24\n",
      "profile_id: ffffffff-9318-7e52-c2ba-fd9f66f94b86MO\n",
      "number of apps installed:  6\n",
      "profile_id: ffffffff-9426-c1e9-ffff-ffffd0723a39MO\n",
      "number of apps installed:  7\n",
      "profile_id: ffffffff-9a59-9123-ffff-ffff8c5e718eMO\n",
      "number of apps installed:  7\n",
      "profile_id: ffffffff-9aa7-8529-ffff-ffff81683b68MO\n",
      "number of apps installed:  16\n",
      "profile_id: ffffffff-a020-8d2a-a7a7-10fa73f974e3MO\n",
      "number of apps installed:  9\n",
      "profile_id: ffffffff-a5fc-ee2f-307e-310956c971ffMO\n",
      "number of apps installed:  6\n",
      "profile_id: ffffffff-aae8-b95f-ffff-fffffb0156d7MO\n",
      "number of apps installed:  12\n",
      "profile_id: ffffffff-ad81-0939-ffff-ffff9c8a82eeMO\n",
      "number of apps installed:  6\n",
      "profile_id: ffffffff-af07-74cc-ffff-ffffc3d089f1MO\n",
      "number of apps installed:  6\n",
      "profile_id: ffffffff-b039-d2aa-ffff-ffffbd09174fMO\n",
      "number of apps installed:  9\n",
      "profile_id: ffffffff-b549-3bc4-ffff-ffffd729c334MO\n",
      "number of apps installed:  6\n",
      "profile_id: ffffffff-bcad-e5a1-ffff-ffffdbfebd0fMO\n",
      "number of apps installed:  10\n",
      "profile_id: ffffffff-c583-7fb9-ffff-ffff8e5e0d9fMO\n",
      "number of apps installed:  7\n",
      "profile_id: ffffffff-cc03-8f0f-6bee-5a3604258e85MO\n",
      "number of apps installed:  7\n",
      "profile_id: ffffffff-d76f-22d9-9c39-8d532f0b8987MO\n",
      "number of apps installed:  6\n",
      "profile_id: ffffffff-d7e2-9eda-9d95-c1003dffb9b5MO\n",
      "number of apps installed:  19\n",
      "profile_id: ffffffff-d956-939a-d9e9-10dc73a94fa0MO\n",
      "number of apps installed:  6\n",
      "profile_id: ffffffff-eeab-3be2-97b1-02b156889bd3MO\n",
      "number of apps installed:  48\n",
      "profile_id: ffffffff-f10f-ca1b-46d4-138303c25121MO\n",
      "number of apps installed:  72\n",
      "profile_id: ffffffff-f8ba-eb97-ffff-ffffc8c73cebMO\n",
      "number of apps installed:  22\n"
     ]
    }
   ],
   "source": [
    "result_list = []\n",
    "for item in profile_ids:\n",
    "    num_apps = nCal(df_cal, item, '2012-10-01', '2017-10-30')\n",
    "\n",
    "    print \"profile_id: \" + item\n",
    "    print \"number of apps installed: \", num_apps\n",
    "    result_list.append(num_apps)"
   ]
  },
  {
   "cell_type": "code",
   "execution_count": 62,
   "metadata": {},
   "outputs": [
    {
     "data": {
      "text/plain": [
       "37"
      ]
     },
     "execution_count": 62,
     "metadata": {},
     "output_type": "execute_result"
    }
   ],
   "source": [
    "len(result_list)"
   ]
  },
  {
   "cell_type": "code",
   "execution_count": 63,
   "metadata": {},
   "outputs": [
    {
     "data": {
      "text/plain": [
       "37"
      ]
     },
     "execution_count": 63,
     "metadata": {},
     "output_type": "execute_result"
    }
   ],
   "source": [
    "len(profile_ids)"
   ]
  },
  {
   "cell_type": "code",
   "execution_count": 66,
   "metadata": {},
   "outputs": [
    {
     "name": "stdout",
     "output_type": "stream",
     "text": [
      "                                profile_id  num_events\n",
      "0   00000000-007a-352b-99b8-2f903aff7e71MO           6\n",
      "1   00000000-013a-c322-c57c-16ee43f7e635MO          85\n",
      "2   00000000-0485-7fa1-2f3b-6ecd6c9a0089MO          10\n",
      "3   00000000-0e47-bada-ffff-ffff8b99a7daMO         128\n",
      "4   00000000-363c-207f-ffff-ffffa0fa259dMO          83\n",
      "5   00000000-3b7d-40e9-1874-9f012a5ccaecMO          11\n",
      "6   00000000-45f9-9f42-aef0-5f4717e2890aMO          22\n",
      "7   00000000-46c0-d4ec-ffff-ffff8e0d63b0MO           9\n",
      "8   00000000-50b6-ad1e-ffff-ffffc4cb99acMO           6\n",
      "9   00000000-5c82-d50d-cfa3-6fe6264d0a12MO         348\n",
      "10  00000000-621d-552b-ffff-ffffc18e1c6fMO          16\n",
      "11  00000000-65d4-a7ba-c73e-ac8d59c1febcMO           9\n",
      "12  00000000-7689-f382-f7f2-c35d2bad3437MO           6\n",
      "13  00000000-7964-649a-fbde-6f5365fd788fMO           6\n",
      "14  00000000-7d35-4e0c-fb3e-50aa327ff400MO          57\n",
      "15  00000000-7ed9-3874-ffff-fffff4dd0a27MO           8\n",
      "16  ffffffff-87e5-cac8-3fca-91fa6ac461d2MO          24\n",
      "17  ffffffff-9318-7e52-c2ba-fd9f66f94b86MO           6\n",
      "18  ffffffff-9426-c1e9-ffff-ffffd0723a39MO           7\n",
      "19  ffffffff-9a59-9123-ffff-ffff8c5e718eMO           7\n",
      "20  ffffffff-9aa7-8529-ffff-ffff81683b68MO          16\n",
      "21  ffffffff-a020-8d2a-a7a7-10fa73f974e3MO           9\n",
      "22  ffffffff-a5fc-ee2f-307e-310956c971ffMO           6\n",
      "23  ffffffff-aae8-b95f-ffff-fffffb0156d7MO          12\n",
      "24  ffffffff-ad81-0939-ffff-ffff9c8a82eeMO           6\n",
      "25  ffffffff-af07-74cc-ffff-ffffc3d089f1MO           6\n",
      "26  ffffffff-b039-d2aa-ffff-ffffbd09174fMO           9\n",
      "27  ffffffff-b549-3bc4-ffff-ffffd729c334MO           6\n",
      "28  ffffffff-bcad-e5a1-ffff-ffffdbfebd0fMO          10\n",
      "29  ffffffff-c583-7fb9-ffff-ffff8e5e0d9fMO           7\n",
      "30  ffffffff-cc03-8f0f-6bee-5a3604258e85MO           7\n",
      "31  ffffffff-d76f-22d9-9c39-8d532f0b8987MO           6\n",
      "32  ffffffff-d7e2-9eda-9d95-c1003dffb9b5MO          19\n",
      "33  ffffffff-d956-939a-d9e9-10dc73a94fa0MO           6\n",
      "34  ffffffff-eeab-3be2-97b1-02b156889bd3MO          48\n",
      "35  ffffffff-f10f-ca1b-46d4-138303c25121MO          72\n",
      "36  ffffffff-f8ba-eb97-ffff-ffffc8c73cebMO          22\n"
     ]
    }
   ],
   "source": [
    "# create new dataframe with profile_ids\n",
    "result_df = pd.DataFrame({'profile_id':profile_ids})\n",
    "\n",
    "# add feature value column to existing dataframe\n",
    "result_df['num_events'] = result_list\n",
    "\n",
    "print result_df"
   ]
  },
  {
   "cell_type": "code",
   "execution_count": 69,
   "metadata": {
    "collapsed": true
   },
   "outputs": [],
   "source": [
    "result_df.to_csv('result.csv')"
   ]
  },
  {
   "cell_type": "markdown",
   "metadata": {},
   "source": [
    "## Homework #2\n",
    "\n",
    "### Bring a fantastic idea for 5 new features \n",
    "### (Special present for the most incredible feature)"
   ]
  }
 ],
 "metadata": {
  "kernelspec": {
   "display_name": "Python 2",
   "language": "python",
   "name": "python2"
  },
  "language_info": {
   "codemirror_mode": {
    "name": "ipython",
    "version": 2
   },
   "file_extension": ".py",
   "mimetype": "text/x-python",
   "name": "python",
   "nbconvert_exporter": "python",
   "pygments_lexer": "ipython2",
   "version": "2.7.14"
  }
 },
 "nbformat": 4,
 "nbformat_minor": 2
}
