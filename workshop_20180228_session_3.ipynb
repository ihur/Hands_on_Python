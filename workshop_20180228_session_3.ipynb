{
 "cells": [
  {
   "cell_type": "markdown",
   "metadata": {},
   "source": [
    "# Python Hands-on training - Session 3"
   ]
  },
  {
   "cell_type": "code",
   "execution_count": 1,
   "metadata": {
    "collapsed": true
   },
   "outputs": [],
   "source": [
    "import pandas as pd\n",
    "from datetime import datetime"
   ]
  },
  {
   "cell_type": "markdown",
   "metadata": {},
   "source": [
    "## Create Features\n",
    "### load apps data"
   ]
  },
  {
   "cell_type": "code",
   "execution_count": 2,
   "metadata": {
    "collapsed": true,
    "scrolled": true
   },
   "outputs": [],
   "source": [
    "df_apps = pd.read_csv('apps.csv', index_col=None)"
   ]
  },
  {
   "cell_type": "markdown",
   "metadata": {},
   "source": [
    "### load calendar data"
   ]
  },
  {
   "cell_type": "code",
   "execution_count": 3,
   "metadata": {
    "collapsed": true
   },
   "outputs": [],
   "source": [
    "df_cal = pd.read_csv('calendar.csv')"
   ]
  },
  {
   "cell_type": "markdown",
   "metadata": {},
   "source": [
    "### load contact data"
   ]
  },
  {
   "cell_type": "code",
   "execution_count": 4,
   "metadata": {
    "collapsed": true
   },
   "outputs": [],
   "source": [
    "df_cont = pd.read_csv('contact.csv', index_col=None)"
   ]
  },
  {
   "cell_type": "markdown",
   "metadata": {},
   "source": [
    "### load call data"
   ]
  },
  {
   "cell_type": "code",
   "execution_count": 5,
   "metadata": {
    "collapsed": true
   },
   "outputs": [],
   "source": [
    "df_call = pd.read_csv('call.csv', index_col=None)"
   ]
  },
  {
   "cell_type": "markdown",
   "metadata": {},
   "source": [
    "### create subsets"
   ]
  },
  {
   "cell_type": "code",
   "execution_count": 6,
   "metadata": {
    "collapsed": true
   },
   "outputs": [],
   "source": [
    "sample_id = df_call['profile_id'][0]"
   ]
  },
  {
   "cell_type": "code",
   "execution_count": 7,
   "metadata": {},
   "outputs": [],
   "source": [
    "df_sub = df_apps[df_apps['profile_id'] == sample_id]"
   ]
  },
  {
   "cell_type": "code",
   "execution_count": 8,
   "metadata": {},
   "outputs": [
    {
     "data": {
      "text/plain": [
       "'2018-05-07 09:00:00.000'"
      ]
     },
     "execution_count": 8,
     "metadata": {},
     "output_type": "execute_result"
    }
   ],
   "source": [
    "df_cal['start_date'][0]"
   ]
  },
  {
   "cell_type": "code",
   "execution_count": 9,
   "metadata": {},
   "outputs": [
    {
     "data": {
      "text/plain": [
       "dtype('O')"
      ]
     },
     "execution_count": 9,
     "metadata": {},
     "output_type": "execute_result"
    }
   ],
   "source": [
    "df_cal['start_date'].dtypes"
   ]
  },
  {
   "cell_type": "code",
   "execution_count": 10,
   "metadata": {
    "collapsed": true
   },
   "outputs": [],
   "source": [
    "df_cal['start_date'] =  pd.to_datetime(df_cal['start_date'], format='%Y-%m-%d %H:%M:%S.%f')"
   ]
  },
  {
   "cell_type": "code",
   "execution_count": 11,
   "metadata": {
    "scrolled": true
   },
   "outputs": [
    {
     "data": {
      "text/plain": [
       "Timestamp('2018-05-07 09:00:00')"
      ]
     },
     "execution_count": 11,
     "metadata": {},
     "output_type": "execute_result"
    }
   ],
   "source": [
    "df_cal['start_date'][0]"
   ]
  },
  {
   "cell_type": "code",
   "execution_count": 12,
   "metadata": {
    "collapsed": true
   },
   "outputs": [
    {
     "data": {
      "text/html": [
       "<div>\n",
       "<style>\n",
       "    .dataframe thead tr:only-child th {\n",
       "        text-align: right;\n",
       "    }\n",
       "\n",
       "    .dataframe thead th {\n",
       "        text-align: left;\n",
       "    }\n",
       "\n",
       "    .dataframe tbody tr th {\n",
       "        vertical-align: top;\n",
       "    }\n",
       "</style>\n",
       "<table border=\"1\" class=\"dataframe\">\n",
       "  <thead>\n",
       "    <tr style=\"text-align: right;\">\n",
       "      <th></th>\n",
       "      <th>_id</th>\n",
       "      <th>attendees</th>\n",
       "      <th>calendar</th>\n",
       "      <th>created</th>\n",
       "      <th>description</th>\n",
       "      <th>end_date</th>\n",
       "      <th>id</th>\n",
       "      <th>instances</th>\n",
       "      <th>is_all_day</th>\n",
       "      <th>location</th>\n",
       "      <th>organizer</th>\n",
       "      <th>profile_id</th>\n",
       "      <th>start_date</th>\n",
       "      <th>timezone</th>\n",
       "      <th>title</th>\n",
       "      <th>updated</th>\n",
       "    </tr>\n",
       "  </thead>\n",
       "  <tbody>\n",
       "    <tr>\n",
       "      <th>6</th>\n",
       "      <td>00000000-007a-352b-99b8-2f903aff7e71MO29</td>\n",
       "      <td>[]</td>\n",
       "      <td>{u'displayName': u'e348d8d0564992652cc3e8e5ae7...</td>\n",
       "      <td>2016-11-02 06:55:25.771</td>\n",
       "      <td>NaN</td>\n",
       "      <td>2015-09-30 09:00:00.000</td>\n",
       "      <td>29</td>\n",
       "      <td>[]</td>\n",
       "      <td>1</td>\n",
       "      <td>NaN</td>\n",
       "      <td>25bf8e1a2393f1108d37029b3df5593236c755742ec934...</td>\n",
       "      <td>00000000-007a-352b-99b8-2f903aff7e71MO</td>\n",
       "      <td>2015-09-29 09:00:00</td>\n",
       "      <td>UTC</td>\n",
       "      <td>대체공휴일</td>\n",
       "      <td>2016-11-02 06:55:25.779</td>\n",
       "    </tr>\n",
       "    <tr>\n",
       "      <th>7</th>\n",
       "      <td>00000000-007a-352b-99b8-2f903aff7e71MO28</td>\n",
       "      <td>[]</td>\n",
       "      <td>{u'displayName': u'e348d8d0564992652cc3e8e5ae7...</td>\n",
       "      <td>2016-11-02 06:55:25.771</td>\n",
       "      <td>NaN</td>\n",
       "      <td>2014-09-11 09:00:00.000</td>\n",
       "      <td>28</td>\n",
       "      <td>[]</td>\n",
       "      <td>1</td>\n",
       "      <td>NaN</td>\n",
       "      <td>25bf8e1a2393f1108d37029b3df5593236c755742ec934...</td>\n",
       "      <td>00000000-007a-352b-99b8-2f903aff7e71MO</td>\n",
       "      <td>2014-09-10 09:00:00</td>\n",
       "      <td>UTC</td>\n",
       "      <td>대체공휴일</td>\n",
       "      <td>2016-11-02 06:55:25.778</td>\n",
       "    </tr>\n",
       "    <tr>\n",
       "      <th>9</th>\n",
       "      <td>00000000-007a-352b-99b8-2f903aff7e71MO30</td>\n",
       "      <td>[]</td>\n",
       "      <td>{u'displayName': u'e348d8d0564992652cc3e8e5ae7...</td>\n",
       "      <td>2016-11-02 06:55:25.771</td>\n",
       "      <td>NaN</td>\n",
       "      <td>2017-10-07 09:00:00.000</td>\n",
       "      <td>30</td>\n",
       "      <td>[]</td>\n",
       "      <td>1</td>\n",
       "      <td>NaN</td>\n",
       "      <td>25bf8e1a2393f1108d37029b3df5593236c755742ec934...</td>\n",
       "      <td>00000000-007a-352b-99b8-2f903aff7e71MO</td>\n",
       "      <td>2017-10-06 09:00:00</td>\n",
       "      <td>UTC</td>\n",
       "      <td>대체공휴일</td>\n",
       "      <td>2016-11-02 06:55:25.780</td>\n",
       "    </tr>\n",
       "    <tr>\n",
       "      <th>27</th>\n",
       "      <td>00000000-007a-352b-99b8-2f903aff7e71MO11</td>\n",
       "      <td>[]</td>\n",
       "      <td>{u'displayName': u'49b6f06d1cf69df8f4221df44d4...</td>\n",
       "      <td>2016-11-02 06:55:25.941</td>\n",
       "      <td>NaN</td>\n",
       "      <td>2013-10-10 09:00:00.000</td>\n",
       "      <td>11</td>\n",
       "      <td>[{u'begin': 1381276800000, u'end': 13813632000...</td>\n",
       "      <td>1</td>\n",
       "      <td>NaN</td>\n",
       "      <td>25bf8e1a2393f1108d37029b3df5593236c755742ec934...</td>\n",
       "      <td>00000000-007a-352b-99b8-2f903aff7e71MO</td>\n",
       "      <td>2013-10-09 09:00:00</td>\n",
       "      <td>UTC</td>\n",
       "      <td>한글날</td>\n",
       "      <td>2016-11-02 06:55:25.965</td>\n",
       "    </tr>\n",
       "    <tr>\n",
       "      <th>29</th>\n",
       "      <td>00000000-007a-352b-99b8-2f903aff7e71MO13</td>\n",
       "      <td>[]</td>\n",
       "      <td>{u'displayName': u'e348d8d0564992652cc3e8e5ae7...</td>\n",
       "      <td>2016-11-02 06:55:25.941</td>\n",
       "      <td>NaN</td>\n",
       "      <td>2017-01-31 09:00:00.000</td>\n",
       "      <td>13</td>\n",
       "      <td>[]</td>\n",
       "      <td>1</td>\n",
       "      <td>NaN</td>\n",
       "      <td>25bf8e1a2393f1108d37029b3df5593236c755742ec934...</td>\n",
       "      <td>00000000-007a-352b-99b8-2f903aff7e71MO</td>\n",
       "      <td>2017-01-30 09:00:00</td>\n",
       "      <td>UTC</td>\n",
       "      <td>대체공휴일</td>\n",
       "      <td>2016-11-02 06:55:25.967</td>\n",
       "    </tr>\n",
       "    <tr>\n",
       "      <th>31</th>\n",
       "      <td>00000000-007a-352b-99b8-2f903aff7e71MO12</td>\n",
       "      <td>[]</td>\n",
       "      <td>{u'displayName': u'e348d8d0564992652cc3e8e5ae7...</td>\n",
       "      <td>2016-11-02 06:55:25.941</td>\n",
       "      <td>NaN</td>\n",
       "      <td>2016-02-11 09:00:00.000</td>\n",
       "      <td>12</td>\n",
       "      <td>[{u'begin': 1455062400000, u'end': 14551488000...</td>\n",
       "      <td>1</td>\n",
       "      <td>NaN</td>\n",
       "      <td>25bf8e1a2393f1108d37029b3df5593236c755742ec934...</td>\n",
       "      <td>00000000-007a-352b-99b8-2f903aff7e71MO</td>\n",
       "      <td>2016-02-10 09:00:00</td>\n",
       "      <td>UTC</td>\n",
       "      <td>대체공휴일</td>\n",
       "      <td>2016-11-02 06:55:25.966</td>\n",
       "    </tr>\n",
       "  </tbody>\n",
       "</table>\n",
       "</div>"
      ],
      "text/plain": [
       "                                         _id attendees  \\\n",
       "6   00000000-007a-352b-99b8-2f903aff7e71MO29        []   \n",
       "7   00000000-007a-352b-99b8-2f903aff7e71MO28        []   \n",
       "9   00000000-007a-352b-99b8-2f903aff7e71MO30        []   \n",
       "27  00000000-007a-352b-99b8-2f903aff7e71MO11        []   \n",
       "29  00000000-007a-352b-99b8-2f903aff7e71MO13        []   \n",
       "31  00000000-007a-352b-99b8-2f903aff7e71MO12        []   \n",
       "\n",
       "                                             calendar  \\\n",
       "6   {u'displayName': u'e348d8d0564992652cc3e8e5ae7...   \n",
       "7   {u'displayName': u'e348d8d0564992652cc3e8e5ae7...   \n",
       "9   {u'displayName': u'e348d8d0564992652cc3e8e5ae7...   \n",
       "27  {u'displayName': u'49b6f06d1cf69df8f4221df44d4...   \n",
       "29  {u'displayName': u'e348d8d0564992652cc3e8e5ae7...   \n",
       "31  {u'displayName': u'e348d8d0564992652cc3e8e5ae7...   \n",
       "\n",
       "                    created description                 end_date  id  \\\n",
       "6   2016-11-02 06:55:25.771         NaN  2015-09-30 09:00:00.000  29   \n",
       "7   2016-11-02 06:55:25.771         NaN  2014-09-11 09:00:00.000  28   \n",
       "9   2016-11-02 06:55:25.771         NaN  2017-10-07 09:00:00.000  30   \n",
       "27  2016-11-02 06:55:25.941         NaN  2013-10-10 09:00:00.000  11   \n",
       "29  2016-11-02 06:55:25.941         NaN  2017-01-31 09:00:00.000  13   \n",
       "31  2016-11-02 06:55:25.941         NaN  2016-02-11 09:00:00.000  12   \n",
       "\n",
       "                                            instances  is_all_day location  \\\n",
       "6                                                  []           1      NaN   \n",
       "7                                                  []           1      NaN   \n",
       "9                                                  []           1      NaN   \n",
       "27  [{u'begin': 1381276800000, u'end': 13813632000...           1      NaN   \n",
       "29                                                 []           1      NaN   \n",
       "31  [{u'begin': 1455062400000, u'end': 14551488000...           1      NaN   \n",
       "\n",
       "                                            organizer  \\\n",
       "6   25bf8e1a2393f1108d37029b3df5593236c755742ec934...   \n",
       "7   25bf8e1a2393f1108d37029b3df5593236c755742ec934...   \n",
       "9   25bf8e1a2393f1108d37029b3df5593236c755742ec934...   \n",
       "27  25bf8e1a2393f1108d37029b3df5593236c755742ec934...   \n",
       "29  25bf8e1a2393f1108d37029b3df5593236c755742ec934...   \n",
       "31  25bf8e1a2393f1108d37029b3df5593236c755742ec934...   \n",
       "\n",
       "                                profile_id          start_date timezone  \\\n",
       "6   00000000-007a-352b-99b8-2f903aff7e71MO 2015-09-29 09:00:00      UTC   \n",
       "7   00000000-007a-352b-99b8-2f903aff7e71MO 2014-09-10 09:00:00      UTC   \n",
       "9   00000000-007a-352b-99b8-2f903aff7e71MO 2017-10-06 09:00:00      UTC   \n",
       "27  00000000-007a-352b-99b8-2f903aff7e71MO 2013-10-09 09:00:00      UTC   \n",
       "29  00000000-007a-352b-99b8-2f903aff7e71MO 2017-01-30 09:00:00      UTC   \n",
       "31  00000000-007a-352b-99b8-2f903aff7e71MO 2016-02-10 09:00:00      UTC   \n",
       "\n",
       "    title                  updated  \n",
       "6   대체공휴일  2016-11-02 06:55:25.779  \n",
       "7   대체공휴일  2016-11-02 06:55:25.778  \n",
       "9   대체공휴일  2016-11-02 06:55:25.780  \n",
       "27    한글날  2016-11-02 06:55:25.965  \n",
       "29  대체공휴일  2016-11-02 06:55:25.967  \n",
       "31  대체공휴일  2016-11-02 06:55:25.966  "
      ]
     },
     "execution_count": 12,
     "metadata": {},
     "output_type": "execute_result"
    }
   ],
   "source": [
    "df_cal[(df_cal['profile_id'] == sample_id) \n",
    "       & (df_cal['start_date'] > '2012-10-01') \n",
    "       & (df_cal['start_date'] < '2017-10-30')]"
   ]
  },
  {
   "cell_type": "markdown",
   "metadata": {},
   "source": [
    "## Let's create simple feature!"
   ]
  },
  {
   "cell_type": "code",
   "execution_count": 13,
   "metadata": {
    "collapsed": true
   },
   "outputs": [],
   "source": [
    "def num_events_between_two_dates(df, profile_id, first_date, second_date):\n",
    "    rec = df[(df['profile_id'] == profile_id) \n",
    "             & (df['start_date'] > first_date) \n",
    "             & (df['start_date'] < second_date)]\n",
    "    if rec is not None:\n",
    "        return rec['profile_id'].count()\n",
    "    else:\n",
    "        return None"
   ]
  },
  {
   "cell_type": "code",
   "execution_count": 14,
   "metadata": {},
   "outputs": [
    {
     "data": {
      "text/plain": [
       "6"
      ]
     },
     "execution_count": 14,
     "metadata": {},
     "output_type": "execute_result"
    }
   ],
   "source": [
    "num_events_between_two_dates(df_cal, sample_id, '2012-10-01','2017-10-30')"
   ]
  },
  {
   "cell_type": "markdown",
   "metadata": {},
   "source": [
    "### (Exercise 1) create feature functions to calculate std, min, max value of numbers has been contacted\n",
    "hint:\n",
    "\n",
    "use df_cont[\"times_contacted\"] and std(), min(), max() functions\n",
    "\n",
    "(usage)\n",
    "\n",
    "df_cont['times_contacted'].min()\n",
    "\n",
    "df_cont['times_contacted'].max()\n",
    "\n",
    "df_cont['times_contacted'].std()\n"
   ]
  },
  {
   "cell_type": "code",
   "execution_count": 15,
   "metadata": {
    "collapsed": true
   },
   "outputs": [],
   "source": [
    "def times_contacted_min_max_std(df, sample_id):\n",
    "    rec = df[df['profile_id'] == sample_id]\n",
    "    \n",
    "    return rec['times_contacted'].min(), rec['times_contacted'].max(), rec['times_contacted'].std()"
   ]
  },
  {
   "cell_type": "code",
   "execution_count": 16,
   "metadata": {},
   "outputs": [
    {
     "data": {
      "text/plain": [
       "(0, 26, 8.463561196793473)"
      ]
     },
     "execution_count": 16,
     "metadata": {},
     "output_type": "execute_result"
    }
   ],
   "source": [
    "times_contacted_min_max_std(df_cont, sample_id)"
   ]
  },
  {
   "cell_type": "markdown",
   "metadata": {},
   "source": [
    "### (Exercise 2) create feature function to calculate incoming over outgoing calls and percentage of missed calls\n",
    "hint:\n",
    "float(df_call['call_type'].count())\n",
    "\n",
    "incoming calls / outgoing calls\n",
    "\n",
    "missed calls / all calls * 100"
   ]
  },
  {
   "cell_type": "code",
   "execution_count": 17,
   "metadata": {
    "collapsed": true
   },
   "outputs": [],
   "source": [
    "def call_count(df, sample_id):\n",
    "    rec = df[df['profile_id'] == sample_id]\n",
    "    \n",
    "    incoming = rec[rec['call_type'] == 'incoming']['call_type'].count()  \n",
    "    outgoing = rec[rec['call_type'] == 'outgoing']['call_type'].count() \n",
    "    missed = rec[rec['call_type'] == 'missed']['call_type'].count() \n",
    "    \n",
    "    return float(incoming) / float(outgoing + 0.00000000000001),  float(missed) / float(rec['call_type'].count()+0.0001) * 100"
   ]
  },
  {
   "cell_type": "code",
   "execution_count": 18,
   "metadata": {},
   "outputs": [
    {
     "data": {
      "text/plain": [
       "(0.5436893203883494, 8.09248087139834)"
      ]
     },
     "execution_count": 18,
     "metadata": {},
     "output_type": "execute_result"
    }
   ],
   "source": [
    "call_count(df_call, df_call['profile_id'][0])"
   ]
  },
  {
   "cell_type": "markdown",
   "metadata": {},
   "source": [
    "### (Exercise 3) create feature function to calculate number of apps developed by google\n",
    "hint:\n",
    "\n",
    "use substring of package_name and find()\n",
    "df_apps['package_name'].find('google')\n",
    "\n",
    "com.google.**** --> return 4\n",
    "com.aaa.google -- > return 8\n",
    "com.hyundai.co --> return -1"
   ]
  },
  {
   "cell_type": "code",
   "execution_count": 19,
   "metadata": {},
   "outputs": [
    {
     "name": "stdout",
     "output_type": "stream",
     "text": [
      "com.mobeam.barcodeService\n"
     ]
    },
    {
     "data": {
      "text/plain": [
       "-1"
      ]
     },
     "execution_count": 19,
     "metadata": {},
     "output_type": "execute_result"
    }
   ],
   "source": [
    "print df_apps['package_name'][0]\n",
    "df_apps['package_name'][0].find('google')"
   ]
  },
  {
   "cell_type": "code",
   "execution_count": 20,
   "metadata": {
    "collapsed": true
   },
   "outputs": [
    {
     "name": "stdout",
     "output_type": "stream",
     "text": [
      "1 , com.mobeam.barcodeService\n",
      "2 , com.wemakeprice\n",
      "3 , com.samsung.android.provider.filterprovider\n",
      "4 , com.sec.android.widgetapp.samsungapps\n",
      "5 , com.gd.mobicore.pa\n",
      "6 , com.hyundaicard.mssapp\n",
      "7 , com.sec.android.app.DataCreate\n",
      "8 , com.skt.prod.phone\n",
      "9 , com.samsung.android.app.galaxyfinder\n",
      "10 , com.google.android.youtube\n",
      "11 , com.sec.location.nsflp2\n",
      "12 , com.sec.android.app.dmb\n",
      "13 , com.samsung.android.themestore\n",
      "14 , com.samsung.android.app.aodservice\n",
      "15 , com.sec.android.app.chromecustomizations\n",
      "16 , com.samsung.android.app.cocktailbarservice\n",
      "17 , com.sec.android.app.parser\n",
      "18 , com.samsung.svoice.sync\n",
      "19 , com.kakaogames.friendsScpuzzle\n",
      "20 , com.google.android.googlequicksearchbox\n",
      "21 , com.osp.app.signin\n",
      "22 , com.dnt7.threeW\n",
      "23 , com.sktelecom.tguard\n",
      "24 , com.samsung.clipboardsaveservice\n",
      "25 , com.sec.android.app.clipvideo\n",
      "26 , com.google.android.onetimeinitializer\n",
      "27 , com.sec.automation\n",
      "28 , com.samsung.android.provider.shootingmodeprovider\n",
      "29 , com.campmobile.snow\n",
      "30 , com.sec.android.app.wfdbroker\n",
      "31 , com.ibk.onebankA\n",
      "32 , com.samsung.android.app.withtv\n",
      "33 , com.skms.android.agent\n",
      "34 , com.skmc.okcashbag.home_google\n",
      "35 , com.sec.factory.camera\n",
      "36 , com.sec.android.app.safetyassurance\n",
      "37 , com.samsung.android.hmt.vrshell\n",
      "38 , com.linecorp.b612.android\n",
      "39 , com.enuri.deal\n",
      "40 , com.samsung.android.easysetup\n",
      "41 , com.skt.prod.phonebook\n",
      "42 , com.sec.usbsettings\n",
      "43 , com.elevenst.deals\n",
      "44 , com.sec.android.easyonehand\n",
      "45 , com.sec.factory\n",
      "46 , com.samsung.android.app.sbrowseredge\n",
      "47 , com.samsung.firmware.nfc\n",
      "48 , com.samsung.ucs.agent.boot\n",
      "49 , com.samsung.android.qconnect\n",
      "50 , com.sec.android.easyMover.Agent\n",
      "51 , com.sec.android.wallpapercropper2\n",
      "52 , com.sec.android.app.tourviewer\n",
      "53 , com.samsung.faceservice\n",
      "54 , com.wsomacp\n",
      "55 , com.sec.android.app.voicenote\n",
      "56 , com.sec.android.Kies\n",
      "57 , com.samsung.knox.rcp.components\n",
      "58 , com.schunid.realnetworks.tstore\n",
      "59 , com.sec.android.app.easylauncher\n",
      "60 , com.ahnlab.v3mobileplus\n",
      "61 , com.samsung.android.email.provider\n",
      "62 , com.samsung.android.intelligenceservice2\n",
      "63 , com.monotype.android.font.foundation\n",
      "64 , com.sec.android.widgetapp.easymodecontactswidget\n",
      "65 , com.sec.android.app.factorykeystring\n",
      "66 , com.sec.android.emergencymode.service\n",
      "67 , com.samsung.android.firmware.tsp\n",
      "68 , com.samsung.android.MtpApplication\n",
      "69 , com.sec.android.app.samsungapps\n",
      "70 , com.google.android.configupdater\n",
      "71 , com.sec.android.app.wlantest\n",
      "72 , com.samsung.android.widgetapp.daumedge\n",
      "73 , com.sec.android.app.billing\n",
      "74 , com.skt.hps20client\n",
      "75 , camera360.lite.beauty.selfie.camera\n",
      "76 , com.samsung.android.game.gamehome\n",
      "77 , com.sec.android.app.minimode.res\n",
      "78 , com.skt.tdatacoupon\n",
      "79 , com.monotype.android.font.applemint\n",
      "80 , com.nhn.android.webtoon\n",
      "81 , com.samsung.android.slinkcloud\n",
      "82 , com.sec.android.daemonapp\n",
      "83 , com.sec.ims\n",
      "84 , com.dsi.ant.service.socket\n",
      "85 , com.sec.enterprise.knox.attestation\n",
      "86 , com.sec.android.app.popupuireceiver\n",
      "87 , com.skt.tservice\n",
      "88 , com.sec.android.AutoPreconfig\n",
      "89 , com.samsung.android.SettingsReceiver\n",
      "90 , com.microsoft.skydrive\n",
      "91 , com.sec.android.provider.badge\n",
      "92 , com.sec.android.app.soundalive\n",
      "93 , com.samsung.android.securitylogagent\n",
      "94 , com.samsung.android.app.assistantmenu\n",
      "95 , com.sec.android.providers.security\n",
      "96 , com.samsung.android.communicationservice\n",
      "97 , com.samsung.SMT\n",
      "98 , com.samsung.android.app.galaxylabs\n",
      "99 , com.samsung.cmh\n",
      "100 , com.samsung.android.sm.devicesecurity\n",
      "101 , com.samsung.android.drivelink.stub\n",
      "102 , com.samsung.hs20provider\n",
      "103 , android\n",
      "104 , com.sec.android.ofviewer\n",
      "105 , com.samsung.android.smartface\n",
      "106 , com.skt.skaf.l001mtm091\n",
      "107 , com.dsi.ant.sample.acquirechannels\n",
      "108 , com.sec.knox.foldercontainer\n",
      "109 , com.skt.prod.dialer\n",
      "110 , com.tmon\n",
      "111 , com.samsung.klmsagent\n",
      "112 , com.sec.android.app.SecSetupWizard\n",
      "113 , com.samsung.android.app.memo\n",
      "114 , com.google.android.gm\n",
      "115 , com.samsung.preloadapp\n",
      "116 , com.skt.tservice.utility\n",
      "117 , com.sec.android.skaflauncher\n",
      "118 , com.skt.RDiagno\n",
      "119 , com.expway.embmsserver\n",
      "120 , com.sec.bcservice\n",
      "121 , com.sec.android.app.hwmoduletest\n",
      "122 , com.iconnect.app.pts.a\n",
      "123 , com.sec.modem.settings\n",
      "124 , com.supercell.clashofclans\n",
      "125 , com.samsung.hidden.SKT\n",
      "126 , com.sec.android.app.sysscope\n",
      "127 , com.sec.android.app.servicemodeapp\n",
      "128 , com.sec.android.app.wallpaperchooser\n",
      "129 , com.samsung.android.providers.context\n",
      "130 , com.samsung.fresco.logging\n",
      "131 , com.skt.RInstallAgent\n",
      "132 , com.sec.android.uibcvirtualsoftkey\n",
      "133 , com.google.android.setupwizard\n",
      "134 , com.sec.android.preloadinstaller\n",
      "135 , com.samsung.android.sdk.professionalaudio.utility.jammonitor\n",
      "136 , com.sec.imsservice\n",
      "137 , com.sec.android.gallery3d\n",
      "138 , com.coupang.mobile\n",
      "139 , com.sec.app.TransmitPowerService\n",
      "140 , com.samsung.android.app.colorblind\n",
      "141 , com.google.android.music\n",
      "142 , com.samsung.android.hmt.vrsvc\n",
      "143 , com.skp.tstore.startup\n",
      "144 , com.ktt.KTTelecop\n",
      "145 , com.sec.android.app.dictionary\n",
      "146 , com.samsung.storyservice\n",
      "147 , com.sec.app.samsungprintservice\n",
      "148 , com.sec.android.app.filtermanager\n",
      "149 , com.imshine.launcher.theme.luv_you\n",
      "150 , com.samsung.android.game.gametools\n",
      "151 , com.samsung.android.app.talkback\n",
      "152 , com.sec.android.service.sm\n",
      "153 , com.samsung.android.app.simplesharing\n",
      "154 , com.samsung.android.service.peoplestripe\n",
      "155 , com.sec.android.gallery3d.panorama360view\n",
      "156 , com.sec.smartcard.manager\n",
      "157 , com.samsung.android.authservice\n",
      "158 , com.sec.android.Preconfig\n",
      "159 , com.sec.allsharecastplayer\n",
      "160 , com.lotteimall.tv.android.app\n",
      "161 , com.samsung.app.slowmotion\n",
      "162 , com.google.android.apps.maps\n",
      "163 , com.google.android.apps.docs\n",
      "164 , com.skt.skaf.Z00000TAPI\n",
      "165 , com.kakao.story\n",
      "166 , com.samsung.android.weather\n",
      "167 , com.skt.skaf.Z0000TSEED\n",
      "168 , com.dsi.ant.plugins.antplus\n",
      "169 , com.sec.enterprise.mdm.vpn\n",
      "170 , com.samsung.android.personalpage.service\n",
      "171 , com.samsung.android.app.taskedge\n",
      "172 , com.samsung.advp.imssettings\n",
      "173 , com.sktelecom.tsmartpay\n",
      "174 , com.sec.android.app.clockpackage\n",
      "175 , com.samsung.android.app.advsounddetector\n",
      "176 , com.sec.android.RilServiceModeApp\n",
      "177 , com.google.android.webview\n",
      "178 , com.sec.android.inputmethod\n",
      "179 , com.samsung.android.app.vrsetupwizardstub\n",
      "180 , com.google.android.syncadapters.contacts\n",
      "181 , com.sec.imslogger\n",
      "182 , com.samsung.android.app.mirrorlink\n",
      "183 , com.samsung.android.clipboarduiservice\n",
      "184 , com.samsung.android.asksmanager\n",
      "185 , com.sec.android.fido.uaf.client\n",
      "186 , com.samsung.android.themecenter\n",
      "187 , com.google.android.packageinstaller\n",
      "188 , com.google.android.gsf\n",
      "189 , com.sec.android.widgetapp.locationwidget\n",
      "190 , com.google.android.gms\n",
      "191 , com.samsung.android.sm\n",
      "192 , com.iloen.melon\n",
      "193 , com.google.android.tts\n",
      "194 , com.samsung.android.controltv\n",
      "195 , com.google.android.partnersetup\n",
      "196 , com.google.android.videos\n",
      "197 , kr.co.alba.webappalba.m\n",
      "198 , com.sec.spp.push\n",
      "199 , com.trustonic.tuiservice\n",
      "200 , com.sec.android.diagmonagent\n",
      "201 , com.dsi.ant.server\n",
      "202 , com.samsung.android.gamepad.service\n",
      "203 , com.sec.android.app.myfiles\n",
      "204 , com.samsung.android.allshare.service.fileshare\n",
      "205 , com.sampleapp\n",
      "206 , com.skt.t_smart_charge\n",
      "207 , com.samsung.android.universalswitch\n",
      "208 , com.sec.android.mimage.photoretouching\n",
      "209 , com.sec.android.app.launcher\n",
      "210 , com.sec.android.app.apex\n",
      "211 , flipboard.boxer.app\n",
      "212 , com.google.android.feedback\n",
      "213 , com.sec.android.app.sns3\n",
      "214 , com.samsung.imagecompress\n",
      "215 , com.monotype.android.font.tinkerbell\n",
      "216 , com.google.android.syncadapters.calendar\n",
      "217 , com.samsung.android.app.filterinstaller\n",
      "218 , com.google.android.apps.photos\n",
      "219 , com.joeware.android.gpulumera\n",
      "220 , com.sec.android.app.sbrowser\n",
      "221 , net.daum.android.daum\n",
      "222 , com.sec.android.providers.tasks\n",
      "223 , com.monotype.android.font.chococooky\n",
      "224 , com.facebook.katana\n",
      "225 , com.sec.android.service.health\n",
      "226 , com.samsung.safetyinformation\n",
      "227 , com.samsung.app.highlightplayer\n",
      "228 , com.sec.android.app.ringtoneBR\n",
      "229 , com.samsung.enhanceservice\n",
      "230 , com.sec.android.app.vepreload\n",
      "231 , com.google.android.gsf.login\n",
      "232 , com.cleanmaster.sdk\n",
      "233 , com.samsung.emergencyreporthelper\n",
      "234 , com.samsung.android.keyguardwallpaperupdator\n",
      "235 , com.samsung.android.app.accesscontrol\n",
      "236 , com.elevenst\n",
      "237 , com.neowiz.games.newmatgo\n",
      "238 , com.sec.enterprise.mdm.services.simpin\n",
      "239 , com.samsung.ucs.ucspinpad\n",
      "240 , com.samsung.android.beaconmanager\n",
      "241 , com.campmobile.launcher\n",
      "242 , com.ims.dm\n",
      "243 , com.skt.prod.phone.phonemodesetupwizard\n",
      "244 , com.facebook.orca\n",
      "245 , com.rsupport.engine.input2\n",
      "246 , com.tms\n",
      "247 , com.sec.android.soagent\n",
      "248 , com.sec.android.app.popupcalculator\n",
      "249 , com.samsung.android.app.FileShareClient\n",
      "250 , com.sec.android.app.quicktool\n",
      "251 , com.skt.smartbill\n",
      "252 , com.samsung.android.fmm\n",
      "253 , com.skt.tbagplus\n",
      "254 , com.sec.phone\n",
      "255 , com.sec.android.fido.uaf.asm\n",
      "256 , com.samsung.android.voc\n",
      "257 , com.samsung.android.mdm\n",
      "258 , Com.sktelecom.minit\n",
      "259 , com.sec.knox.knoxsetupwizardclient\n",
      "260 , com.samsung.knox.appsupdateagent\n",
      "261 , com.google.android.backuptransport\n",
      "262 , com.samsung.android.app.scrollcapture\n",
      "263 , com.sec.app.RilErrorNotifier\n",
      "264 , com.samsung.android.app.interactivepanoramaviewer\n",
      "265 , com.samsung.android.scloud\n",
      "266 , com.samsung.android.app.soundpicker\n",
      "267 , com.samsung.firmware.sensorhub\n",
      "268 , com.samsung.android.spay\n",
      "269 , com.skt.tzlogin\n",
      "270 , com.samsung.app.newtrim\n",
      "271 , com.samsung.android.spayfw\n",
      "272 , com.samsung.android.sm.policy\n",
      "273 , com.sec.android.app.bluetoothtest\n",
      "274 , com.samsung.android.app.naver\n",
      "275 , com.nate.android.portalmini\n",
      "276 , com.neowiz.games.poker\n",
      "277 , com.rsupport.engine.screen\n",
      "278 , com.kakao.talk\n",
      "279 , com.sec.android.emergencylauncher\n",
      "280 , com.sec.hearingadjust\n",
      "281 , com.sundaytoz.kakao.matgo.service\n",
      "282 , com.omnitel.android.lottewebview\n",
      "283 , com.samsung.android.dlp.service\n",
      "284 , com.sec.android.easyMover\n",
      "285 , com.samsung.android.bbc.bbcagent\n",
      "286 , com.samsung.android.voicewakeup\n",
      "287 , com.wssnps\n",
      "288 , com.sec.android.splitsound\n",
      "289 , com.nhn.android.ndrive\n",
      "290 , com.policydm\n",
      "291 , com.samsung.android.app.FileShareServer\n",
      "292 , com.samsung.android.app.watchmanagerstub\n",
      "293 , com.samsung.ucs.agent.ese\n",
      "294 , com.samsung.android.sdk.professionalaudio.app.audioconnectionservice\n",
      "295 , com.sec.android.app.snsimagecache\n",
      "296 , com.enhance.gameservice\n",
      "297 , com.google.android.talk\n",
      "298 , com.samsung.dcmservice\n",
      "299 , com.skt.skaf.OA00018282\n",
      "300 , com.samsung.android.widgetapp.briefing\n",
      "301 , com.nhn.android.search\n",
      "302 , com.sec.enterprise.knox.cloudmdm.smdms\n",
      "303 , com.skt.skaf.OA00199800\n",
      "304 , com.sec.svoice.lang.en_US\n",
      "305 , com.skt.skaf.OA00026910\n",
      "306 , com.wssyncmldm\n",
      "307 , com.skt.skaf.OA00412131\n",
      "308 , com.sec.svoice.lang.ko_KR\n",
      "309 , com.sec.android.app.camera.plb\n",
      "310 , com.skp.tcloud.agent\n",
      "311 , com.sec.android.app.personalization\n",
      "312 , com.samsung.android.sm.provider\n",
      "313 , com.samsung.android.app.appsedge\n",
      "314 , com.samsung.voiceserviceplatform\n",
      "315 , com.skt.skaf.A000Z00040\n",
      "316 , com.sec.android.provider.emergencymode\n",
      "317 , com.samsung.android.allshare.service.mediashare\n",
      "318 , com.samsung.aasaservice\n",
      "319 , com.sec.android.app.mt\n",
      "320 , com.sktelecom.smartcard.SmartcardService\n",
      "321 , com.sec.android.app.applinker\n",
      "322 , com.google.android.play.games\n",
      "323 , com.samsung.android.fingerprint.service\n",
      "324 , com.samsung.ipservice\n",
      "325 , nh.smart\n",
      "326 , com.sec.android.QRreader\n",
      "327 , com.sec.android.app.camera\n",
      "328 , com.sec.knox.switcher\n",
      "329 , com.sec.android.widgetapp.webmanual\n",
      "330 , com.samsung.sec.android.application.csc\n",
      "331 , com.sec.android.app.magnifier\n",
      "332 , com.samsung.android.app.motionpanoramaviewer\n",
      "333 , com.samsung.android.coreapps\n",
      "334 , com.samsung.location\n",
      "335 , com.samsung.android.video\n"
     ]
    }
   ],
   "source": [
    "counter = 0\n",
    "rec = df_apps[df_apps['profile_id'] == sample_id]\n",
    "\n",
    "for item in rec['package_name']:\n",
    "    counter = counter + 1\n",
    "    print counter, \",\", item"
   ]
  },
  {
   "cell_type": "code",
   "execution_count": 21,
   "metadata": {
    "collapsed": true
   },
   "outputs": [],
   "source": [
    "def number_of_google_developed_apps_installed(df, profile_id):\n",
    "    rec = df[df['profile_id'] == profile_id]\n",
    "    counter = 0\n",
    "    \n",
    "    for item in rec['package_name']:\n",
    "        if item.find('google') == 4:\n",
    "            counter += 1\n",
    "    \n",
    "    return counter"
   ]
  },
  {
   "cell_type": "code",
   "execution_count": 22,
   "metadata": {},
   "outputs": [
    {
     "data": {
      "text/plain": [
       "24"
      ]
     },
     "execution_count": 22,
     "metadata": {},
     "output_type": "execute_result"
    }
   ],
   "source": [
    "number_of_google_developed_apps_installed(df_apps, sample_id)"
   ]
  },
  {
   "cell_type": "markdown",
   "metadata": {},
   "source": [
    "### get all the feature values for all applicants"
   ]
  },
  {
   "cell_type": "code",
   "execution_count": 23,
   "metadata": {
    "collapsed": true
   },
   "outputs": [],
   "source": [
    "profile_ids = df_cal['profile_id'].unique()"
   ]
  },
  {
   "cell_type": "code",
   "execution_count": 24,
   "metadata": {
    "collapsed": true
   },
   "outputs": [
    {
     "data": {
      "text/plain": [
       "array(['00000000-007a-352b-99b8-2f903aff7e71MO',\n",
       "       '00000000-013a-c322-c57c-16ee43f7e635MO',\n",
       "       '00000000-0485-7fa1-2f3b-6ecd6c9a0089MO',\n",
       "       '00000000-0e47-bada-ffff-ffff8b99a7daMO',\n",
       "       '00000000-363c-207f-ffff-ffffa0fa259dMO',\n",
       "       '00000000-3b7d-40e9-1874-9f012a5ccaecMO',\n",
       "       '00000000-45f9-9f42-aef0-5f4717e2890aMO',\n",
       "       '00000000-46c0-d4ec-ffff-ffff8e0d63b0MO',\n",
       "       '00000000-50b6-ad1e-ffff-ffffc4cb99acMO',\n",
       "       '00000000-5c82-d50d-cfa3-6fe6264d0a12MO',\n",
       "       '00000000-621d-552b-ffff-ffffc18e1c6fMO',\n",
       "       '00000000-65d4-a7ba-c73e-ac8d59c1febcMO',\n",
       "       '00000000-7689-f382-f7f2-c35d2bad3437MO',\n",
       "       '00000000-7964-649a-fbde-6f5365fd788fMO',\n",
       "       '00000000-7d35-4e0c-fb3e-50aa327ff400MO',\n",
       "       '00000000-7ed9-3874-ffff-fffff4dd0a27MO',\n",
       "       'ffffffff-87e5-cac8-3fca-91fa6ac461d2MO',\n",
       "       'ffffffff-9318-7e52-c2ba-fd9f66f94b86MO',\n",
       "       'ffffffff-9426-c1e9-ffff-ffffd0723a39MO',\n",
       "       'ffffffff-9a59-9123-ffff-ffff8c5e718eMO',\n",
       "       'ffffffff-9aa7-8529-ffff-ffff81683b68MO',\n",
       "       'ffffffff-a020-8d2a-a7a7-10fa73f974e3MO',\n",
       "       'ffffffff-a5fc-ee2f-307e-310956c971ffMO',\n",
       "       'ffffffff-aae8-b95f-ffff-fffffb0156d7MO',\n",
       "       'ffffffff-ad81-0939-ffff-ffff9c8a82eeMO',\n",
       "       'ffffffff-af07-74cc-ffff-ffffc3d089f1MO',\n",
       "       'ffffffff-b039-d2aa-ffff-ffffbd09174fMO',\n",
       "       'ffffffff-b549-3bc4-ffff-ffffd729c334MO',\n",
       "       'ffffffff-bcad-e5a1-ffff-ffffdbfebd0fMO',\n",
       "       'ffffffff-c583-7fb9-ffff-ffff8e5e0d9fMO',\n",
       "       'ffffffff-cc03-8f0f-6bee-5a3604258e85MO',\n",
       "       'ffffffff-d76f-22d9-9c39-8d532f0b8987MO',\n",
       "       'ffffffff-d7e2-9eda-9d95-c1003dffb9b5MO',\n",
       "       'ffffffff-d956-939a-d9e9-10dc73a94fa0MO',\n",
       "       'ffffffff-eeab-3be2-97b1-02b156889bd3MO',\n",
       "       'ffffffff-f10f-ca1b-46d4-138303c25121MO',\n",
       "       'ffffffff-f8ba-eb97-ffff-ffffc8c73cebMO'], dtype=object)"
      ]
     },
     "execution_count": 24,
     "metadata": {},
     "output_type": "execute_result"
    }
   ],
   "source": [
    "profile_ids"
   ]
  },
  {
   "cell_type": "code",
   "execution_count": 25,
   "metadata": {},
   "outputs": [],
   "source": [
    "result_list = []\n",
    "for item in profile_ids:\n",
    "    #print \"profile_id: \" + item\n",
    "    num_event = num_events_between_two_dates(df_cal, item, '2012-10-01', '2017-10-30')\n",
    "    #print num_event\n",
    "    result_list.append(num_event)"
   ]
  },
  {
   "cell_type": "code",
   "execution_count": 26,
   "metadata": {
    "collapsed": true
   },
   "outputs": [
    {
     "data": {
      "text/plain": [
       "[6,\n",
       " 85,\n",
       " 10,\n",
       " 128,\n",
       " 83,\n",
       " 11,\n",
       " 22,\n",
       " 9,\n",
       " 6,\n",
       " 348,\n",
       " 16,\n",
       " 9,\n",
       " 6,\n",
       " 6,\n",
       " 57,\n",
       " 8,\n",
       " 24,\n",
       " 6,\n",
       " 7,\n",
       " 7,\n",
       " 16,\n",
       " 9,\n",
       " 6,\n",
       " 12,\n",
       " 6,\n",
       " 6,\n",
       " 9,\n",
       " 6,\n",
       " 10,\n",
       " 7,\n",
       " 7,\n",
       " 6,\n",
       " 19,\n",
       " 6,\n",
       " 48,\n",
       " 72,\n",
       " 22]"
      ]
     },
     "execution_count": 26,
     "metadata": {},
     "output_type": "execute_result"
    }
   ],
   "source": [
    "result_list"
   ]
  },
  {
   "cell_type": "markdown",
   "metadata": {
    "collapsed": true
   },
   "source": [
    "## Let's create new dataframe with feature values "
   ]
  },
  {
   "cell_type": "code",
   "execution_count": 27,
   "metadata": {
    "collapsed": true
   },
   "outputs": [],
   "source": [
    "# create new dataframe with profile_ids\n",
    "result_df = pd.DataFrame({'profile_id':profile_ids})\n",
    "\n",
    "# add feature value column to existing dataframe\n",
    "result_df['num_events'] = result_list"
   ]
  },
  {
   "cell_type": "code",
   "execution_count": 28,
   "metadata": {
    "collapsed": true
   },
   "outputs": [
    {
     "data": {
      "text/html": [
       "<div>\n",
       "<style>\n",
       "    .dataframe thead tr:only-child th {\n",
       "        text-align: right;\n",
       "    }\n",
       "\n",
       "    .dataframe thead th {\n",
       "        text-align: left;\n",
       "    }\n",
       "\n",
       "    .dataframe tbody tr th {\n",
       "        vertical-align: top;\n",
       "    }\n",
       "</style>\n",
       "<table border=\"1\" class=\"dataframe\">\n",
       "  <thead>\n",
       "    <tr style=\"text-align: right;\">\n",
       "      <th></th>\n",
       "      <th>profile_id</th>\n",
       "      <th>num_events</th>\n",
       "    </tr>\n",
       "  </thead>\n",
       "  <tbody>\n",
       "    <tr>\n",
       "      <th>0</th>\n",
       "      <td>00000000-007a-352b-99b8-2f903aff7e71MO</td>\n",
       "      <td>6</td>\n",
       "    </tr>\n",
       "    <tr>\n",
       "      <th>1</th>\n",
       "      <td>00000000-013a-c322-c57c-16ee43f7e635MO</td>\n",
       "      <td>85</td>\n",
       "    </tr>\n",
       "    <tr>\n",
       "      <th>2</th>\n",
       "      <td>00000000-0485-7fa1-2f3b-6ecd6c9a0089MO</td>\n",
       "      <td>10</td>\n",
       "    </tr>\n",
       "    <tr>\n",
       "      <th>3</th>\n",
       "      <td>00000000-0e47-bada-ffff-ffff8b99a7daMO</td>\n",
       "      <td>128</td>\n",
       "    </tr>\n",
       "    <tr>\n",
       "      <th>4</th>\n",
       "      <td>00000000-363c-207f-ffff-ffffa0fa259dMO</td>\n",
       "      <td>83</td>\n",
       "    </tr>\n",
       "  </tbody>\n",
       "</table>\n",
       "</div>"
      ],
      "text/plain": [
       "                               profile_id  num_events\n",
       "0  00000000-007a-352b-99b8-2f903aff7e71MO           6\n",
       "1  00000000-013a-c322-c57c-16ee43f7e635MO          85\n",
       "2  00000000-0485-7fa1-2f3b-6ecd6c9a0089MO          10\n",
       "3  00000000-0e47-bada-ffff-ffff8b99a7daMO         128\n",
       "4  00000000-363c-207f-ffff-ffffa0fa259dMO          83"
      ]
     },
     "execution_count": 28,
     "metadata": {},
     "output_type": "execute_result"
    }
   ],
   "source": [
    "result_df.head()"
   ]
  },
  {
   "cell_type": "code",
   "execution_count": 29,
   "metadata": {
    "collapsed": true
   },
   "outputs": [],
   "source": [
    "def times_contacted_min_max_std(df, sample_id):\n",
    "    rec = df[df['profile_id'] == sample_id]\n",
    "    \n",
    "    return rec['times_contacted'].min(), rec['times_contacted'].max(), rec['times_contacted'].std()"
   ]
  },
  {
   "cell_type": "code",
   "execution_count": 31,
   "metadata": {},
   "outputs": [],
   "source": [
    "min_list = []\n",
    "max_list = []\n",
    "std_list = []\n",
    "for item in profile_ids:\n",
    "    #print \"profile_id: \" + item\n",
    "    con_min, con_max, con_std = times_contacted_min_max_std(df_cont, item)\n",
    "    #print con_min, con_max, con_std\n",
    "    min_list.append(con_min)\n",
    "    max_list.append(con_max)\n",
    "    std_list.append(con_std)"
   ]
  },
  {
   "cell_type": "code",
   "execution_count": 32,
   "metadata": {
    "collapsed": true
   },
   "outputs": [],
   "source": [
    "# add feature value column to existing dataframe\n",
    "result_df['min_contacted'] = min_list\n",
    "result_df['max_contacted'] = max_list\n",
    "result_df['std_contacted'] = std_list"
   ]
  },
  {
   "cell_type": "code",
   "execution_count": 33,
   "metadata": {
    "collapsed": true
   },
   "outputs": [
    {
     "data": {
      "text/html": [
       "<div>\n",
       "<style>\n",
       "    .dataframe thead tr:only-child th {\n",
       "        text-align: right;\n",
       "    }\n",
       "\n",
       "    .dataframe thead th {\n",
       "        text-align: left;\n",
       "    }\n",
       "\n",
       "    .dataframe tbody tr th {\n",
       "        vertical-align: top;\n",
       "    }\n",
       "</style>\n",
       "<table border=\"1\" class=\"dataframe\">\n",
       "  <thead>\n",
       "    <tr style=\"text-align: right;\">\n",
       "      <th></th>\n",
       "      <th>profile_id</th>\n",
       "      <th>num_events</th>\n",
       "      <th>min_contacted</th>\n",
       "      <th>max_contacted</th>\n",
       "      <th>std_contacted</th>\n",
       "    </tr>\n",
       "  </thead>\n",
       "  <tbody>\n",
       "    <tr>\n",
       "      <th>0</th>\n",
       "      <td>00000000-007a-352b-99b8-2f903aff7e71MO</td>\n",
       "      <td>6</td>\n",
       "      <td>0</td>\n",
       "      <td>26</td>\n",
       "      <td>8.463561</td>\n",
       "    </tr>\n",
       "    <tr>\n",
       "      <th>1</th>\n",
       "      <td>00000000-013a-c322-c57c-16ee43f7e635MO</td>\n",
       "      <td>85</td>\n",
       "      <td>0</td>\n",
       "      <td>737</td>\n",
       "      <td>97.480306</td>\n",
       "    </tr>\n",
       "    <tr>\n",
       "      <th>2</th>\n",
       "      <td>00000000-0485-7fa1-2f3b-6ecd6c9a0089MO</td>\n",
       "      <td>10</td>\n",
       "      <td>0</td>\n",
       "      <td>3023</td>\n",
       "      <td>325.631263</td>\n",
       "    </tr>\n",
       "    <tr>\n",
       "      <th>3</th>\n",
       "      <td>00000000-0e47-bada-ffff-ffff8b99a7daMO</td>\n",
       "      <td>128</td>\n",
       "      <td>0</td>\n",
       "      <td>15</td>\n",
       "      <td>2.068169</td>\n",
       "    </tr>\n",
       "    <tr>\n",
       "      <th>4</th>\n",
       "      <td>00000000-363c-207f-ffff-ffffa0fa259dMO</td>\n",
       "      <td>83</td>\n",
       "      <td>0</td>\n",
       "      <td>326</td>\n",
       "      <td>35.979839</td>\n",
       "    </tr>\n",
       "  </tbody>\n",
       "</table>\n",
       "</div>"
      ],
      "text/plain": [
       "                               profile_id  num_events  min_contacted  \\\n",
       "0  00000000-007a-352b-99b8-2f903aff7e71MO           6              0   \n",
       "1  00000000-013a-c322-c57c-16ee43f7e635MO          85              0   \n",
       "2  00000000-0485-7fa1-2f3b-6ecd6c9a0089MO          10              0   \n",
       "3  00000000-0e47-bada-ffff-ffff8b99a7daMO         128              0   \n",
       "4  00000000-363c-207f-ffff-ffffa0fa259dMO          83              0   \n",
       "\n",
       "   max_contacted  std_contacted  \n",
       "0             26       8.463561  \n",
       "1            737      97.480306  \n",
       "2           3023     325.631263  \n",
       "3             15       2.068169  \n",
       "4            326      35.979839  "
      ]
     },
     "execution_count": 33,
     "metadata": {},
     "output_type": "execute_result"
    }
   ],
   "source": [
    "result_df.head()"
   ]
  },
  {
   "cell_type": "code",
   "execution_count": 38,
   "metadata": {},
   "outputs": [],
   "source": [
    "frac_list = []\n",
    "missed_list = []\n",
    "for item in profile_ids:\n",
    "    #print \"profile_id: \" + item\n",
    "    frac_in_out, missed_percentage = call_count(df_call, item)\n",
    "    #print frac_in_out, missed_percentage\n",
    "    frac_list.append(frac_in_out)\n",
    "    missed_list.append(missed_percentage)"
   ]
  },
  {
   "cell_type": "code",
   "execution_count": 39,
   "metadata": {
    "collapsed": true
   },
   "outputs": [],
   "source": [
    "# add feature value column to existing dataframe\n",
    "result_df['frac_in_out'] = frac_list\n",
    "result_df['missed_percentage'] = missed_list"
   ]
  },
  {
   "cell_type": "code",
   "execution_count": 40,
   "metadata": {
    "collapsed": true
   },
   "outputs": [
    {
     "data": {
      "text/html": [
       "<div>\n",
       "<style>\n",
       "    .dataframe thead tr:only-child th {\n",
       "        text-align: right;\n",
       "    }\n",
       "\n",
       "    .dataframe thead th {\n",
       "        text-align: left;\n",
       "    }\n",
       "\n",
       "    .dataframe tbody tr th {\n",
       "        vertical-align: top;\n",
       "    }\n",
       "</style>\n",
       "<table border=\"1\" class=\"dataframe\">\n",
       "  <thead>\n",
       "    <tr style=\"text-align: right;\">\n",
       "      <th></th>\n",
       "      <th>profile_id</th>\n",
       "      <th>num_events</th>\n",
       "      <th>min_contacted</th>\n",
       "      <th>max_contacted</th>\n",
       "      <th>std_contacted</th>\n",
       "      <th>frac_in_out</th>\n",
       "      <th>missed_percentage</th>\n",
       "    </tr>\n",
       "  </thead>\n",
       "  <tbody>\n",
       "    <tr>\n",
       "      <th>0</th>\n",
       "      <td>00000000-007a-352b-99b8-2f903aff7e71MO</td>\n",
       "      <td>6</td>\n",
       "      <td>0</td>\n",
       "      <td>26</td>\n",
       "      <td>8.463561</td>\n",
       "      <td>0.543689</td>\n",
       "      <td>8.092481</td>\n",
       "    </tr>\n",
       "    <tr>\n",
       "      <th>1</th>\n",
       "      <td>00000000-013a-c322-c57c-16ee43f7e635MO</td>\n",
       "      <td>85</td>\n",
       "      <td>0</td>\n",
       "      <td>737</td>\n",
       "      <td>97.480306</td>\n",
       "      <td>0.000000</td>\n",
       "      <td>0.000000</td>\n",
       "    </tr>\n",
       "    <tr>\n",
       "      <th>2</th>\n",
       "      <td>00000000-0485-7fa1-2f3b-6ecd6c9a0089MO</td>\n",
       "      <td>10</td>\n",
       "      <td>0</td>\n",
       "      <td>3023</td>\n",
       "      <td>325.631263</td>\n",
       "      <td>0.445483</td>\n",
       "      <td>6.639838</td>\n",
       "    </tr>\n",
       "    <tr>\n",
       "      <th>3</th>\n",
       "      <td>00000000-0e47-bada-ffff-ffff8b99a7daMO</td>\n",
       "      <td>128</td>\n",
       "      <td>0</td>\n",
       "      <td>15</td>\n",
       "      <td>2.068169</td>\n",
       "      <td>0.000000</td>\n",
       "      <td>66.664445</td>\n",
       "    </tr>\n",
       "    <tr>\n",
       "      <th>4</th>\n",
       "      <td>00000000-363c-207f-ffff-ffffa0fa259dMO</td>\n",
       "      <td>83</td>\n",
       "      <td>0</td>\n",
       "      <td>326</td>\n",
       "      <td>35.979839</td>\n",
       "      <td>0.883969</td>\n",
       "      <td>9.663250</td>\n",
       "    </tr>\n",
       "  </tbody>\n",
       "</table>\n",
       "</div>"
      ],
      "text/plain": [
       "                               profile_id  num_events  min_contacted  \\\n",
       "0  00000000-007a-352b-99b8-2f903aff7e71MO           6              0   \n",
       "1  00000000-013a-c322-c57c-16ee43f7e635MO          85              0   \n",
       "2  00000000-0485-7fa1-2f3b-6ecd6c9a0089MO          10              0   \n",
       "3  00000000-0e47-bada-ffff-ffff8b99a7daMO         128              0   \n",
       "4  00000000-363c-207f-ffff-ffffa0fa259dMO          83              0   \n",
       "\n",
       "   max_contacted  std_contacted  frac_in_out  missed_percentage  \n",
       "0             26       8.463561     0.543689           8.092481  \n",
       "1            737      97.480306     0.000000           0.000000  \n",
       "2           3023     325.631263     0.445483           6.639838  \n",
       "3             15       2.068169     0.000000          66.664445  \n",
       "4            326      35.979839     0.883969           9.663250  "
      ]
     },
     "execution_count": 40,
     "metadata": {},
     "output_type": "execute_result"
    }
   ],
   "source": [
    "result_df.head()"
   ]
  },
  {
   "cell_type": "code",
   "execution_count": 41,
   "metadata": {},
   "outputs": [],
   "source": [
    "apps_list = []\n",
    "for item in profile_ids:\n",
    "    #print \"profile_id: \" + item\n",
    "    num_apps = number_of_google_developed_apps_installed(df_apps, item)\n",
    "    #print num_apps\n",
    "    apps_list.append(num_apps)"
   ]
  },
  {
   "cell_type": "code",
   "execution_count": 42,
   "metadata": {
    "collapsed": true
   },
   "outputs": [],
   "source": [
    "# add feature value column to existing dataframe\n",
    "result_df['num_google_developed_apps'] = apps_list"
   ]
  },
  {
   "cell_type": "code",
   "execution_count": 43,
   "metadata": {
    "collapsed": true
   },
   "outputs": [
    {
     "data": {
      "text/html": [
       "<div>\n",
       "<style>\n",
       "    .dataframe thead tr:only-child th {\n",
       "        text-align: right;\n",
       "    }\n",
       "\n",
       "    .dataframe thead th {\n",
       "        text-align: left;\n",
       "    }\n",
       "\n",
       "    .dataframe tbody tr th {\n",
       "        vertical-align: top;\n",
       "    }\n",
       "</style>\n",
       "<table border=\"1\" class=\"dataframe\">\n",
       "  <thead>\n",
       "    <tr style=\"text-align: right;\">\n",
       "      <th></th>\n",
       "      <th>profile_id</th>\n",
       "      <th>num_events</th>\n",
       "      <th>min_contacted</th>\n",
       "      <th>max_contacted</th>\n",
       "      <th>std_contacted</th>\n",
       "      <th>frac_in_out</th>\n",
       "      <th>missed_percentage</th>\n",
       "      <th>num_google_developed_apps</th>\n",
       "    </tr>\n",
       "  </thead>\n",
       "  <tbody>\n",
       "    <tr>\n",
       "      <th>0</th>\n",
       "      <td>00000000-007a-352b-99b8-2f903aff7e71MO</td>\n",
       "      <td>6</td>\n",
       "      <td>0</td>\n",
       "      <td>26</td>\n",
       "      <td>8.463561</td>\n",
       "      <td>0.543689</td>\n",
       "      <td>8.092481</td>\n",
       "      <td>24</td>\n",
       "    </tr>\n",
       "    <tr>\n",
       "      <th>1</th>\n",
       "      <td>00000000-013a-c322-c57c-16ee43f7e635MO</td>\n",
       "      <td>85</td>\n",
       "      <td>0</td>\n",
       "      <td>737</td>\n",
       "      <td>97.480306</td>\n",
       "      <td>0.000000</td>\n",
       "      <td>0.000000</td>\n",
       "      <td>27</td>\n",
       "    </tr>\n",
       "    <tr>\n",
       "      <th>2</th>\n",
       "      <td>00000000-0485-7fa1-2f3b-6ecd6c9a0089MO</td>\n",
       "      <td>10</td>\n",
       "      <td>0</td>\n",
       "      <td>3023</td>\n",
       "      <td>325.631263</td>\n",
       "      <td>0.445483</td>\n",
       "      <td>6.639838</td>\n",
       "      <td>26</td>\n",
       "    </tr>\n",
       "    <tr>\n",
       "      <th>3</th>\n",
       "      <td>00000000-0e47-bada-ffff-ffff8b99a7daMO</td>\n",
       "      <td>128</td>\n",
       "      <td>0</td>\n",
       "      <td>15</td>\n",
       "      <td>2.068169</td>\n",
       "      <td>0.000000</td>\n",
       "      <td>66.664445</td>\n",
       "      <td>27</td>\n",
       "    </tr>\n",
       "    <tr>\n",
       "      <th>4</th>\n",
       "      <td>00000000-363c-207f-ffff-ffffa0fa259dMO</td>\n",
       "      <td>83</td>\n",
       "      <td>0</td>\n",
       "      <td>326</td>\n",
       "      <td>35.979839</td>\n",
       "      <td>0.883969</td>\n",
       "      <td>9.663250</td>\n",
       "      <td>32</td>\n",
       "    </tr>\n",
       "  </tbody>\n",
       "</table>\n",
       "</div>"
      ],
      "text/plain": [
       "                               profile_id  num_events  min_contacted  \\\n",
       "0  00000000-007a-352b-99b8-2f903aff7e71MO           6              0   \n",
       "1  00000000-013a-c322-c57c-16ee43f7e635MO          85              0   \n",
       "2  00000000-0485-7fa1-2f3b-6ecd6c9a0089MO          10              0   \n",
       "3  00000000-0e47-bada-ffff-ffff8b99a7daMO         128              0   \n",
       "4  00000000-363c-207f-ffff-ffffa0fa259dMO          83              0   \n",
       "\n",
       "   max_contacted  std_contacted  frac_in_out  missed_percentage  \\\n",
       "0             26       8.463561     0.543689           8.092481   \n",
       "1            737      97.480306     0.000000           0.000000   \n",
       "2           3023     325.631263     0.445483           6.639838   \n",
       "3             15       2.068169     0.000000          66.664445   \n",
       "4            326      35.979839     0.883969           9.663250   \n",
       "\n",
       "   num_google_developed_apps  \n",
       "0                         24  \n",
       "1                         27  \n",
       "2                         26  \n",
       "3                         27  \n",
       "4                         32  "
      ]
     },
     "execution_count": 43,
     "metadata": {},
     "output_type": "execute_result"
    }
   ],
   "source": [
    "result_df.head()"
   ]
  },
  {
   "cell_type": "markdown",
   "metadata": {},
   "source": [
    "## Let's create more features because it is FUN!!"
   ]
  },
  {
   "cell_type": "code",
   "execution_count": 44,
   "metadata": {},
   "outputs": [
    {
     "data": {
      "text/plain": [
       "_id                   21\n",
       "created               21\n",
       "first_install_time    21\n",
       "package_name          21\n",
       "profile_id            21\n",
       "updated               21\n",
       "version_code          21\n",
       "version_name          21\n",
       "dtype: int64"
      ]
     },
     "execution_count": 44,
     "metadata": {},
     "output_type": "execute_result"
    }
   ],
   "source": [
    "df_apps[df_apps.package_name.str.contains('com.facebook.katana')].count()"
   ]
  },
  {
   "cell_type": "code",
   "execution_count": 45,
   "metadata": {},
   "outputs": [
    {
     "data": {
      "text/plain": [
       "_id                   13\n",
       "created               13\n",
       "first_install_time    13\n",
       "package_name          13\n",
       "profile_id            13\n",
       "updated               13\n",
       "version_code          13\n",
       "version_name          13\n",
       "dtype: int64"
      ]
     },
     "execution_count": 45,
     "metadata": {},
     "output_type": "execute_result"
    }
   ],
   "source": [
    "df_apps[df_apps.package_name.str.contains('com.instagram.android')].count()"
   ]
  },
  {
   "cell_type": "markdown",
   "metadata": {},
   "source": [
    "### (Exercise 1) create feature function to calculate Social Media usage weight and add the values to \"result_df\"\n",
    "\n",
    "hint:\n",
    "\n",
    "instagram: com.instagram.android\n",
    "\n",
    "facebook: com.facebook.katana\n",
    "\n",
    "weights:\n",
    "facebook --> 1,\n",
    "instagram --> 2,\n",
    "facebook + instagram --> 4"
   ]
  },
  {
   "cell_type": "markdown",
   "metadata": {},
   "source": [
    "### (Exercise 2) create feature function to count number of contact with email and add the values to \"result_df\"\n",
    "\n",
    "df_cont['email'].isnull()\n",
    "\n",
    "\"NaN = null\""
   ]
  },
  {
   "cell_type": "markdown",
   "metadata": {},
   "source": [
    "### (Exercise 3) create feature function to calculate mean duration of incoming and outgoing calls, and compare the person is a listener or a talker. Then add the values to \"result_df\"\n",
    "\n",
    "hint:\n",
    "\n",
    "mean incoming duration > mean outgoing duration: a listener\n",
    "\n",
    "mean incoming duration < mean outgoing duration: a talker"
   ]
  },
  {
   "cell_type": "markdown",
   "metadata": {},
   "source": [
    "### (Exercise 4) create feature function to calculate diversity of organizer and add the values to \"result_df\"\n",
    "\n",
    "hint:\n",
    "\n",
    "number of all events / number of organizer"
   ]
  }
 ],
 "metadata": {
  "kernelspec": {
   "display_name": "Python 2",
   "language": "python",
   "name": "python2"
  },
  "language_info": {
   "codemirror_mode": {
    "name": "ipython",
    "version": 2
   },
   "file_extension": ".py",
   "mimetype": "text/x-python",
   "name": "python",
   "nbconvert_exporter": "python",
   "pygments_lexer": "ipython2",
   "version": "2.7.14"
  }
 },
 "nbformat": 4,
 "nbformat_minor": 2
}
